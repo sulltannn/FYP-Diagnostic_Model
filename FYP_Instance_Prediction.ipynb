{
  "cells": [
    {
      "cell_type": "code",
      "execution_count": null,
      "metadata": {
        "colab": {
          "base_uri": "https://localhost:8080/"
        },
        "id": "WJlU76_TiMvk",
        "outputId": "21fa994c-3d3b-4594-bcb0-2a32c7287dc2"
      },
      "outputs": [
        {
          "name": "stdout",
          "output_type": "stream",
          "text": [
            "Collecting pydicom\n",
            "  Downloading pydicom-3.0.1-py3-none-any.whl.metadata (9.4 kB)\n",
            "Downloading pydicom-3.0.1-py3-none-any.whl (2.4 MB)\n",
            "\u001b[2K   \u001b[38;2;114;156;31m━━━━━━━━━━━━━━━━━━━━━━━━━━━━━━━━━━━━━━━━\u001b[0m \u001b[32m2.4/2.4 MB\u001b[0m \u001b[31m19.7 MB/s\u001b[0m eta \u001b[36m0:00:00\u001b[0mm eta \u001b[36m0:00:01\u001b[0m\n",
            "Installing collected packages: pydicom\n",
            "Successfully installed pydicom-3.0.1\n",
            "Collecting torch\n",
            "  Downloading torch-2.7.0-cp313-cp313-manylinux_2_28_x86_64.whl.metadata (29 kB)\n",
            "Collecting filelock (from torch)\n",
            "  Using cached filelock-3.18.0-py3-none-any.whl.metadata (2.9 kB)\n",
            "Requirement already satisfied: typing-extensions>=4.10.0 in /home/jawaria/miniconda3/envs/spine/lib/python3.13/site-packages (from torch) (4.12.2)\n",
            "Requirement already satisfied: setuptools in /home/jawaria/miniconda3/envs/spine/lib/python3.13/site-packages (from torch) (78.1.1)\n",
            "Collecting sympy>=1.13.3 (from torch)\n",
            "  Downloading sympy-1.14.0-py3-none-any.whl.metadata (12 kB)\n",
            "Collecting networkx (from torch)\n",
            "  Using cached networkx-3.4.2-py3-none-any.whl.metadata (6.3 kB)\n",
            "Requirement already satisfied: jinja2 in /home/jawaria/miniconda3/envs/spine/lib/python3.13/site-packages (from torch) (3.1.6)\n",
            "Collecting fsspec (from torch)\n",
            "  Downloading fsspec-2025.3.2-py3-none-any.whl.metadata (11 kB)\n",
            "Collecting nvidia-cuda-nvrtc-cu12==12.6.77 (from torch)\n",
            "  Downloading nvidia_cuda_nvrtc_cu12-12.6.77-py3-none-manylinux2014_x86_64.whl.metadata (1.5 kB)\n",
            "Collecting nvidia-cuda-runtime-cu12==12.6.77 (from torch)\n",
            "  Downloading nvidia_cuda_runtime_cu12-12.6.77-py3-none-manylinux2014_x86_64.manylinux_2_17_x86_64.whl.metadata (1.5 kB)\n",
            "Collecting nvidia-cuda-cupti-cu12==12.6.80 (from torch)\n",
            "  Downloading nvidia_cuda_cupti_cu12-12.6.80-py3-none-manylinux2014_x86_64.manylinux_2_17_x86_64.whl.metadata (1.6 kB)\n",
            "Collecting nvidia-cudnn-cu12==9.5.1.17 (from torch)\n",
            "  Downloading nvidia_cudnn_cu12-9.5.1.17-py3-none-manylinux_2_28_x86_64.whl.metadata (1.6 kB)\n",
            "Collecting nvidia-cublas-cu12==12.6.4.1 (from torch)\n",
            "  Downloading nvidia_cublas_cu12-12.6.4.1-py3-none-manylinux2014_x86_64.manylinux_2_17_x86_64.whl.metadata (1.5 kB)\n",
            "Collecting nvidia-cufft-cu12==11.3.0.4 (from torch)\n",
            "  Downloading nvidia_cufft_cu12-11.3.0.4-py3-none-manylinux2014_x86_64.manylinux_2_17_x86_64.whl.metadata (1.5 kB)\n",
            "Collecting nvidia-curand-cu12==10.3.7.77 (from torch)\n",
            "  Downloading nvidia_curand_cu12-10.3.7.77-py3-none-manylinux2014_x86_64.manylinux_2_17_x86_64.whl.metadata (1.5 kB)\n",
            "Collecting nvidia-cusolver-cu12==11.7.1.2 (from torch)\n",
            "  Downloading nvidia_cusolver_cu12-11.7.1.2-py3-none-manylinux2014_x86_64.manylinux_2_17_x86_64.whl.metadata (1.6 kB)\n",
            "Collecting nvidia-cusparse-cu12==12.5.4.2 (from torch)\n",
            "  Downloading nvidia_cusparse_cu12-12.5.4.2-py3-none-manylinux2014_x86_64.manylinux_2_17_x86_64.whl.metadata (1.6 kB)\n",
            "Collecting nvidia-cusparselt-cu12==0.6.3 (from torch)\n",
            "  Downloading nvidia_cusparselt_cu12-0.6.3-py3-none-manylinux2014_x86_64.whl.metadata (6.8 kB)\n",
            "Collecting nvidia-nccl-cu12==2.26.2 (from torch)\n",
            "  Downloading nvidia_nccl_cu12-2.26.2-py3-none-manylinux2014_x86_64.manylinux_2_17_x86_64.whl.metadata (2.0 kB)\n",
            "Collecting nvidia-nvtx-cu12==12.6.77 (from torch)\n",
            "  Downloading nvidia_nvtx_cu12-12.6.77-py3-none-manylinux2014_x86_64.manylinux_2_17_x86_64.whl.metadata (1.6 kB)\n",
            "Collecting nvidia-nvjitlink-cu12==12.6.85 (from torch)\n",
            "  Downloading nvidia_nvjitlink_cu12-12.6.85-py3-none-manylinux2010_x86_64.manylinux_2_12_x86_64.whl.metadata (1.5 kB)\n",
            "Collecting nvidia-cufile-cu12==1.11.1.6 (from torch)\n",
            "  Downloading nvidia_cufile_cu12-1.11.1.6-py3-none-manylinux2014_x86_64.manylinux_2_17_x86_64.whl.metadata (1.5 kB)\n",
            "Collecting triton==3.3.0 (from torch)\n",
            "  Downloading triton-3.3.0-cp313-cp313-manylinux_2_27_x86_64.manylinux_2_28_x86_64.whl.metadata (1.5 kB)\n",
            "Collecting mpmath<1.4,>=1.1.0 (from sympy>=1.13.3->torch)\n",
            "  Using cached mpmath-1.3.0-py3-none-any.whl.metadata (8.6 kB)\n",
            "Requirement already satisfied: MarkupSafe>=2.0 in /home/jawaria/miniconda3/envs/spine/lib/python3.13/site-packages (from jinja2->torch) (3.0.2)\n",
            "Downloading torch-2.7.0-cp313-cp313-manylinux_2_28_x86_64.whl (865.0 MB)\n",
            "\u001b[2K   \u001b[38;2;114;156;31m━━━━━━━━━━━━━━━━━━━━━━━━━━━━━━━━━━━━━━━━\u001b[0m \u001b[32m865.0/865.0 MB\u001b[0m \u001b[31m35.9 MB/s\u001b[0m eta \u001b[36m0:00:00\u001b[0mm eta \u001b[36m0:00:01\u001b[0m[36m0:00:01\u001b[0m\n",
            "Downloading nvidia_cublas_cu12-12.6.4.1-py3-none-manylinux2014_x86_64.manylinux_2_17_x86_64.whl (393.1 MB)\n",
            "\u001b[2K   \u001b[38;2;114;156;31m━━━━━━━━━━━━━━━━━━━━━━━━━━━━━━━━━━━━━━━━\u001b[0m \u001b[32m393.1/393.1 MB\u001b[0m \u001b[31m31.0 MB/s\u001b[0m eta \u001b[36m0:00:00\u001b[0mm eta \u001b[36m0:00:01\u001b[0m[36m0:00:01\u001b[0m\n",
            "Downloading nvidia_cuda_cupti_cu12-12.6.80-py3-none-manylinux2014_x86_64.manylinux_2_17_x86_64.whl (8.9 MB)\n",
            "\u001b[2K   \u001b[38;2;114;156;31m━━━━━━━━━━━━━━━━━━━━━━━━━━━━━━━━━━━━━━━━\u001b[0m \u001b[32m8.9/8.9 MB\u001b[0m \u001b[31m31.5 MB/s\u001b[0m eta \u001b[36m0:00:00\u001b[0m31m33.4 MB/s\u001b[0m eta \u001b[36m0:00:01\u001b[0m\n",
            "Downloading nvidia_cuda_nvrtc_cu12-12.6.77-py3-none-manylinux2014_x86_64.whl (23.7 MB)\n",
            "\u001b[2K   \u001b[38;2;114;156;31m━━━━━━━━━━━━━━━━━━━━━━━━━━━━━━━━━━━━━━━━\u001b[0m \u001b[32m23.7/23.7 MB\u001b[0m \u001b[31m29.7 MB/s\u001b[0m eta \u001b[36m0:00:00\u001b[0m MB/s\u001b[0m eta \u001b[36m0:00:01\u001b[0m:01\u001b[0m\n",
            "Downloading nvidia_cuda_runtime_cu12-12.6.77-py3-none-manylinux2014_x86_64.manylinux_2_17_x86_64.whl (897 kB)\n",
            "\u001b[2K   \u001b[38;2;114;156;31m━━━━━━━━━━━━━━━━━━━━━━━━━━━━━━━━━━━━━━━━\u001b[0m \u001b[32m897.7/897.7 kB\u001b[0m \u001b[31m15.8 MB/s\u001b[0m eta \u001b[36m0:00:00\u001b[0m\n",
            "Downloading nvidia_cudnn_cu12-9.5.1.17-py3-none-manylinux_2_28_x86_64.whl (571.0 MB)\n",
            "\u001b[2K   \u001b[38;2;114;156;31m━━━━━━━━━━━━━━━━━━━━━━━━━━━━━━━━━━━━━━━━\u001b[0m \u001b[32m571.0/571.0 MB\u001b[0m \u001b[31m31.2 MB/s\u001b[0m eta \u001b[36m0:00:00\u001b[0mm eta \u001b[36m0:00:01\u001b[0m[36m0:00:01\u001b[0m\n",
            "Downloading nvidia_cufft_cu12-11.3.0.4-py3-none-manylinux2014_x86_64.manylinux_2_17_x86_64.whl (200.2 MB)\n",
            "\u001b[2K   \u001b[38;2;114;156;31m━━━━━━━━━━━━━━━━━━━━━━━━━━━━━━━━━━━━━━━━\u001b[0m \u001b[32m200.2/200.2 MB\u001b[0m \u001b[31m28.2 MB/s\u001b[0m eta \u001b[36m0:00:00\u001b[0mm eta \u001b[36m0:00:01\u001b[0m0:01\u001b[0m:01\u001b[0m\n",
            "Downloading nvidia_cufile_cu12-1.11.1.6-py3-none-manylinux2014_x86_64.manylinux_2_17_x86_64.whl (1.1 MB)\n",
            "\u001b[2K   \u001b[38;2;114;156;31m━━━━━━━━━━━━━━━━━━━━━━━━━━━━━━━━━━━━━━━━\u001b[0m \u001b[32m1.1/1.1 MB\u001b[0m \u001b[31m19.7 MB/s\u001b[0m eta \u001b[36m0:00:00\u001b[0m\n",
            "Downloading nvidia_curand_cu12-10.3.7.77-py3-none-manylinux2014_x86_64.manylinux_2_17_x86_64.whl (56.3 MB)\n",
            "\u001b[2K   \u001b[38;2;114;156;31m━━━━━━━━━━━━━━━━━━━━━━━━━━━━━━━━━━━━━━━━\u001b[0m \u001b[32m56.3/56.3 MB\u001b[0m \u001b[31m29.8 MB/s\u001b[0m eta \u001b[36m0:00:00\u001b[0mm eta \u001b[36m0:00:01\u001b[0m0:01\u001b[0m:01\u001b[0m\n",
            "Downloading nvidia_cusolver_cu12-11.7.1.2-py3-none-manylinux2014_x86_64.manylinux_2_17_x86_64.whl (158.2 MB)\n",
            "\u001b[2K   \u001b[38;2;114;156;31m━━━━━━━━━━━━━━━━━━━━━━━━━━━━━━━━━━━━━━━━\u001b[0m \u001b[32m158.2/158.2 MB\u001b[0m \u001b[31m24.9 MB/s\u001b[0m eta \u001b[36m0:00:00\u001b[0mm eta \u001b[36m0:00:01\u001b[0m[36m0:00:01\u001b[0m\n",
            "Downloading nvidia_cusparse_cu12-12.5.4.2-py3-none-manylinux2014_x86_64.manylinux_2_17_x86_64.whl (216.6 MB)\n",
            "\u001b[2K   \u001b[38;2;114;156;31m━━━━━━━━━━━━━━━━━━━━━━━━━━━━━━━━━━━━━━━━\u001b[0m \u001b[32m216.6/216.6 MB\u001b[0m \u001b[31m29.9 MB/s\u001b[0m eta \u001b[36m0:00:00\u001b[0mm eta \u001b[36m0:00:01\u001b[0m[36m0:00:01\u001b[0m\n",
            "Downloading nvidia_cusparselt_cu12-0.6.3-py3-none-manylinux2014_x86_64.whl (156.8 MB)\n",
            "\u001b[2K   \u001b[38;2;114;156;31m━━━━━━━━━━━━━━━━━━━━━━━━━━━━━━━━━━━━━━━━\u001b[0m \u001b[32m156.8/156.8 MB\u001b[0m \u001b[31m24.3 MB/s\u001b[0m eta \u001b[36m0:00:00\u001b[0mm eta \u001b[36m0:00:01\u001b[0m[36m0:00:01\u001b[0m\n",
            "Downloading nvidia_nccl_cu12-2.26.2-py3-none-manylinux2014_x86_64.manylinux_2_17_x86_64.whl (201.3 MB)\n",
            "\u001b[2K   \u001b[38;2;114;156;31m━━━━━━━━━━━━━━━━━━━━━━━━━━━━━━━━━━━━━━━━\u001b[0m \u001b[32m201.3/201.3 MB\u001b[0m \u001b[31m29.8 MB/s\u001b[0m eta \u001b[36m0:00:00\u001b[0mm eta \u001b[36m0:00:01\u001b[0m[36m0:00:01\u001b[0m\n",
            "Downloading nvidia_nvjitlink_cu12-12.6.85-py3-none-manylinux2010_x86_64.manylinux_2_12_x86_64.whl (19.7 MB)\n",
            "\u001b[2K   \u001b[38;2;114;156;31m━━━━━━━━━━━━━━━━━━━━━━━━━━━━━━━━━━━━━━━━\u001b[0m \u001b[32m19.7/19.7 MB\u001b[0m \u001b[31m27.7 MB/s\u001b[0m eta \u001b[36m0:00:00\u001b[0m MB/s\u001b[0m eta \u001b[36m0:00:01\u001b[0m01\u001b[0m\n",
            "Downloading nvidia_nvtx_cu12-12.6.77-py3-none-manylinux2014_x86_64.manylinux_2_17_x86_64.whl (89 kB)\n",
            "Downloading triton-3.3.0-cp313-cp313-manylinux_2_27_x86_64.manylinux_2_28_x86_64.whl (156.5 MB)\n",
            "\u001b[2K   \u001b[38;2;114;156;31m━━━━━━━━━━━━━━━━━━━━━━━━━━━━━━━━━━━━━━━━\u001b[0m \u001b[32m156.5/156.5 MB\u001b[0m \u001b[31m25.1 MB/s\u001b[0m eta \u001b[36m0:00:00\u001b[0mm eta \u001b[36m0:00:01\u001b[0m[36m0:00:01\u001b[0m\n",
            "Downloading sympy-1.14.0-py3-none-any.whl (6.3 MB)\n",
            "\u001b[2K   \u001b[38;2;114;156;31m━━━━━━━━━━━━━━━━━━━━━━━━━━━━━━━━━━━━━━━━\u001b[0m \u001b[32m6.3/6.3 MB\u001b[0m \u001b[31m22.1 MB/s\u001b[0m eta \u001b[36m0:00:00\u001b[0m MB/s\u001b[0m eta \u001b[36m0:00:01\u001b[0m\n",
            "\u001b[?25hUsing cached mpmath-1.3.0-py3-none-any.whl (536 kB)\n",
            "Using cached filelock-3.18.0-py3-none-any.whl (16 kB)\n",
            "Downloading fsspec-2025.3.2-py3-none-any.whl (194 kB)\n",
            "Using cached networkx-3.4.2-py3-none-any.whl (1.7 MB)\n",
            "Installing collected packages: nvidia-cusparselt-cu12, mpmath, triton, sympy, nvidia-nvtx-cu12, nvidia-nvjitlink-cu12, nvidia-nccl-cu12, nvidia-curand-cu12, nvidia-cufile-cu12, nvidia-cuda-runtime-cu12, nvidia-cuda-nvrtc-cu12, nvidia-cuda-cupti-cu12, nvidia-cublas-cu12, networkx, fsspec, filelock, nvidia-cusparse-cu12, nvidia-cufft-cu12, nvidia-cudnn-cu12, nvidia-cusolver-cu12, torch\n",
            "\u001b[2K   \u001b[38;2;114;156;31m━━━━━━━━━━━━━━━━━━━━━━━━━━━━━━━━━━━━━━━━\u001b[0m \u001b[32m21/21\u001b[0m [torch]7m━\u001b[0m \u001b[32m20/21\u001b[0m [torch]-cusolver-cu12]cu12]12]\n",
            "\u001b[1A\u001b[2KSuccessfully installed filelock-3.18.0 fsspec-2025.3.2 mpmath-1.3.0 networkx-3.4.2 nvidia-cublas-cu12-12.6.4.1 nvidia-cuda-cupti-cu12-12.6.80 nvidia-cuda-nvrtc-cu12-12.6.77 nvidia-cuda-runtime-cu12-12.6.77 nvidia-cudnn-cu12-9.5.1.17 nvidia-cufft-cu12-11.3.0.4 nvidia-cufile-cu12-1.11.1.6 nvidia-curand-cu12-10.3.7.77 nvidia-cusolver-cu12-11.7.1.2 nvidia-cusparse-cu12-12.5.4.2 nvidia-cusparselt-cu12-0.6.3 nvidia-nccl-cu12-2.26.2 nvidia-nvjitlink-cu12-12.6.85 nvidia-nvtx-cu12-12.6.77 sympy-1.14.0 torch-2.7.0 triton-3.3.0\n",
            "Collecting torchio\n",
            "  Downloading torchio-0.20.8-py3-none-any.whl.metadata (50 kB)\n",
            "Collecting deprecated>=1.2 (from torchio)\n",
            "  Using cached Deprecated-1.2.18-py2.py3-none-any.whl.metadata (5.7 kB)\n",
            "Collecting einops>=0.3 (from torchio)\n",
            "  Using cached einops-0.8.1-py3-none-any.whl.metadata (13 kB)\n",
            "Collecting humanize>=0.1 (from torchio)\n",
            "  Downloading humanize-4.12.3-py3-none-any.whl.metadata (7.8 kB)\n",
            "Collecting nibabel>=3 (from torchio)\n",
            "  Downloading nibabel-5.3.2-py3-none-any.whl.metadata (9.1 kB)\n",
            "Collecting numpy>=1.20 (from torchio)\n",
            "  Downloading numpy-2.2.5-cp313-cp313-manylinux_2_17_x86_64.manylinux2014_x86_64.whl.metadata (62 kB)\n",
            "Requirement already satisfied: packaging>=20 in /home/jawaria/miniconda3/envs/spine/lib/python3.13/site-packages (from torchio) (24.2)\n",
            "Collecting rich>=10 (from torchio)\n",
            "  Downloading rich-14.0.0-py3-none-any.whl.metadata (18 kB)\n",
            "Collecting scipy>=1.7 (from torchio)\n",
            "  Downloading scipy-1.15.2-cp313-cp313-manylinux_2_17_x86_64.manylinux2014_x86_64.whl.metadata (61 kB)\n",
            "Collecting simpleitk!=2.0.*,!=2.1.1.1,>=1.3 (from torchio)\n",
            "  Downloading simpleitk-2.5.0-cp311-abi3-manylinux_2_17_x86_64.manylinux2014_x86_64.whl.metadata (7.2 kB)\n",
            "Requirement already satisfied: torch>=1.9 in /home/jawaria/miniconda3/envs/spine/lib/python3.13/site-packages (from torchio) (2.7.0)\n",
            "Collecting tqdm>=4.40 (from torchio)\n",
            "  Using cached tqdm-4.67.1-py3-none-any.whl.metadata (57 kB)\n",
            "Collecting typer>=0.1 (from torchio)\n",
            "  Downloading typer-0.15.3-py3-none-any.whl.metadata (15 kB)\n",
            "Collecting wrapt<2,>=1.10 (from deprecated>=1.2->torchio)\n",
            "  Downloading wrapt-1.17.2-cp313-cp313-manylinux_2_5_x86_64.manylinux1_x86_64.manylinux_2_17_x86_64.manylinux2014_x86_64.whl.metadata (6.4 kB)\n",
            "Collecting markdown-it-py>=2.2.0 (from rich>=10->torchio)\n",
            "  Using cached markdown_it_py-3.0.0-py3-none-any.whl.metadata (6.9 kB)\n",
            "Requirement already satisfied: pygments<3.0.0,>=2.13.0 in /home/jawaria/miniconda3/envs/spine/lib/python3.13/site-packages (from rich>=10->torchio) (2.19.1)\n",
            "Collecting mdurl~=0.1 (from markdown-it-py>=2.2.0->rich>=10->torchio)\n",
            "  Using cached mdurl-0.1.2-py3-none-any.whl.metadata (1.6 kB)\n",
            "Requirement already satisfied: filelock in /home/jawaria/miniconda3/envs/spine/lib/python3.13/site-packages (from torch>=1.9->torchio) (3.18.0)\n",
            "Requirement already satisfied: typing-extensions>=4.10.0 in /home/jawaria/miniconda3/envs/spine/lib/python3.13/site-packages (from torch>=1.9->torchio) (4.12.2)\n",
            "Requirement already satisfied: setuptools in /home/jawaria/miniconda3/envs/spine/lib/python3.13/site-packages (from torch>=1.9->torchio) (78.1.1)\n",
            "Requirement already satisfied: sympy>=1.13.3 in /home/jawaria/miniconda3/envs/spine/lib/python3.13/site-packages (from torch>=1.9->torchio) (1.14.0)\n",
            "Requirement already satisfied: networkx in /home/jawaria/miniconda3/envs/spine/lib/python3.13/site-packages (from torch>=1.9->torchio) (3.4.2)\n",
            "Requirement already satisfied: jinja2 in /home/jawaria/miniconda3/envs/spine/lib/python3.13/site-packages (from torch>=1.9->torchio) (3.1.6)\n",
            "Requirement already satisfied: fsspec in /home/jawaria/miniconda3/envs/spine/lib/python3.13/site-packages (from torch>=1.9->torchio) (2025.3.2)\n",
            "Requirement already satisfied: nvidia-cuda-nvrtc-cu12==12.6.77 in /home/jawaria/miniconda3/envs/spine/lib/python3.13/site-packages (from torch>=1.9->torchio) (12.6.77)\n",
            "Requirement already satisfied: nvidia-cuda-runtime-cu12==12.6.77 in /home/jawaria/miniconda3/envs/spine/lib/python3.13/site-packages (from torch>=1.9->torchio) (12.6.77)\n",
            "Requirement already satisfied: nvidia-cuda-cupti-cu12==12.6.80 in /home/jawaria/miniconda3/envs/spine/lib/python3.13/site-packages (from torch>=1.9->torchio) (12.6.80)\n",
            "Requirement already satisfied: nvidia-cudnn-cu12==9.5.1.17 in /home/jawaria/miniconda3/envs/spine/lib/python3.13/site-packages (from torch>=1.9->torchio) (9.5.1.17)\n",
            "Requirement already satisfied: nvidia-cublas-cu12==12.6.4.1 in /home/jawaria/miniconda3/envs/spine/lib/python3.13/site-packages (from torch>=1.9->torchio) (12.6.4.1)\n",
            "Requirement already satisfied: nvidia-cufft-cu12==11.3.0.4 in /home/jawaria/miniconda3/envs/spine/lib/python3.13/site-packages (from torch>=1.9->torchio) (11.3.0.4)\n",
            "Requirement already satisfied: nvidia-curand-cu12==10.3.7.77 in /home/jawaria/miniconda3/envs/spine/lib/python3.13/site-packages (from torch>=1.9->torchio) (10.3.7.77)\n",
            "Requirement already satisfied: nvidia-cusolver-cu12==11.7.1.2 in /home/jawaria/miniconda3/envs/spine/lib/python3.13/site-packages (from torch>=1.9->torchio) (11.7.1.2)\n",
            "Requirement already satisfied: nvidia-cusparse-cu12==12.5.4.2 in /home/jawaria/miniconda3/envs/spine/lib/python3.13/site-packages (from torch>=1.9->torchio) (12.5.4.2)\n",
            "Requirement already satisfied: nvidia-cusparselt-cu12==0.6.3 in /home/jawaria/miniconda3/envs/spine/lib/python3.13/site-packages (from torch>=1.9->torchio) (0.6.3)\n",
            "Requirement already satisfied: nvidia-nccl-cu12==2.26.2 in /home/jawaria/miniconda3/envs/spine/lib/python3.13/site-packages (from torch>=1.9->torchio) (2.26.2)\n",
            "Requirement already satisfied: nvidia-nvtx-cu12==12.6.77 in /home/jawaria/miniconda3/envs/spine/lib/python3.13/site-packages (from torch>=1.9->torchio) (12.6.77)\n",
            "Requirement already satisfied: nvidia-nvjitlink-cu12==12.6.85 in /home/jawaria/miniconda3/envs/spine/lib/python3.13/site-packages (from torch>=1.9->torchio) (12.6.85)\n",
            "Requirement already satisfied: nvidia-cufile-cu12==1.11.1.6 in /home/jawaria/miniconda3/envs/spine/lib/python3.13/site-packages (from torch>=1.9->torchio) (1.11.1.6)\n",
            "Requirement already satisfied: triton==3.3.0 in /home/jawaria/miniconda3/envs/spine/lib/python3.13/site-packages (from torch>=1.9->torchio) (3.3.0)\n",
            "Requirement already satisfied: mpmath<1.4,>=1.1.0 in /home/jawaria/miniconda3/envs/spine/lib/python3.13/site-packages (from sympy>=1.13.3->torch>=1.9->torchio) (1.3.0)\n",
            "Collecting click>=8.0.0 (from typer>=0.1->torchio)\n",
            "  Using cached click-8.1.8-py3-none-any.whl.metadata (2.3 kB)\n",
            "Collecting shellingham>=1.3.0 (from typer>=0.1->torchio)\n",
            "  Using cached shellingham-1.5.4-py2.py3-none-any.whl.metadata (3.5 kB)\n",
            "Requirement already satisfied: MarkupSafe>=2.0 in /home/jawaria/miniconda3/envs/spine/lib/python3.13/site-packages (from jinja2->torch>=1.9->torchio) (3.0.2)\n",
            "Downloading torchio-0.20.8-py3-none-any.whl (177 kB)\n",
            "Using cached Deprecated-1.2.18-py2.py3-none-any.whl (10.0 kB)\n",
            "Downloading wrapt-1.17.2-cp313-cp313-manylinux_2_5_x86_64.manylinux1_x86_64.manylinux_2_17_x86_64.manylinux2014_x86_64.whl (89 kB)\n",
            "Using cached einops-0.8.1-py3-none-any.whl (64 kB)\n",
            "Downloading humanize-4.12.3-py3-none-any.whl (128 kB)\n",
            "Downloading nibabel-5.3.2-py3-none-any.whl (3.3 MB)\n",
            "\u001b[2K   \u001b[38;2;114;156;31m━━━━━━━━━━━━━━━━━━━━━━━━━━━━━━━━━━━━━━━━\u001b[0m \u001b[32m3.3/3.3 MB\u001b[0m \u001b[31m9.6 MB/s\u001b[0m eta \u001b[36m0:00:00\u001b[0m[31m5.1 MB/s\u001b[0m eta \u001b[36m0:00:01\u001b[0m\n",
            "Downloading numpy-2.2.5-cp313-cp313-manylinux_2_17_x86_64.manylinux2014_x86_64.whl (16.1 MB)\n",
            "\u001b[2K   \u001b[38;2;114;156;31m━━━━━━━━━━━━━━━━━━━━━━━━━━━━━━━━━━━━━━━━\u001b[0m \u001b[32m16.1/16.1 MB\u001b[0m \u001b[31m28.6 MB/s\u001b[0m eta \u001b[36m0:00:00\u001b[0m MB/s\u001b[0m eta \u001b[36m0:00:01\u001b[0m01\u001b[0m\n",
            "Downloading rich-14.0.0-py3-none-any.whl (243 kB)\n",
            "Using cached markdown_it_py-3.0.0-py3-none-any.whl (87 kB)\n",
            "Using cached mdurl-0.1.2-py3-none-any.whl (10.0 kB)\n",
            "Downloading scipy-1.15.2-cp313-cp313-manylinux_2_17_x86_64.manylinux2014_x86_64.whl (37.3 MB)\n",
            "\u001b[2K   \u001b[38;2;114;156;31m━━━━━━━━━━━━━━━━━━━━━━━━━━━━━━━━━━━━━━━━\u001b[0m \u001b[32m37.3/37.3 MB\u001b[0m \u001b[31m41.5 MB/s\u001b[0m eta \u001b[36m0:00:00\u001b[0mm eta \u001b[36m0:00:01\u001b[0m0:01\u001b[0m:01\u001b[0m\n",
            "Downloading simpleitk-2.5.0-cp311-abi3-manylinux_2_17_x86_64.manylinux2014_x86_64.whl (52.6 MB)\n",
            "\u001b[2K   \u001b[38;2;114;156;31m━━━━━━━━━━━━━━━━━━━━━━━━━━━━━━━━━━━━━━━━\u001b[0m \u001b[32m52.6/52.6 MB\u001b[0m \u001b[31m39.8 MB/s\u001b[0m eta \u001b[36m0:00:00\u001b[0mm eta \u001b[36m0:00:01\u001b[0m0:01\u001b[0m01\u001b[0m\n",
            "\u001b[?25hUsing cached tqdm-4.67.1-py3-none-any.whl (78 kB)\n",
            "Downloading typer-0.15.3-py3-none-any.whl (45 kB)\n",
            "Using cached click-8.1.8-py3-none-any.whl (98 kB)\n",
            "Using cached shellingham-1.5.4-py2.py3-none-any.whl (9.8 kB)\n",
            "Installing collected packages: simpleitk, wrapt, tqdm, shellingham, numpy, mdurl, humanize, einops, click, scipy, nibabel, markdown-it-py, deprecated, rich, typer, torchio\n",
            "\u001b[2K   \u001b[38;2;114;156;31m━━━━━━━━━━━━━━━━━━━━━━━━━━━━━━━━━━━━━━━━\u001b[0m \u001b[32m16/16\u001b[0m [torchio]m━━━━━━━\u001b[0m \u001b[32m13/16\u001b[0m [rich]]\n",
            "\u001b[1A\u001b[2KSuccessfully installed click-8.1.8 deprecated-1.2.18 einops-0.8.1 humanize-4.12.3 markdown-it-py-3.0.0 mdurl-0.1.2 nibabel-5.3.2 numpy-2.2.5 rich-14.0.0 scipy-1.15.2 shellingham-1.5.4 simpleitk-2.5.0 torchio-0.20.8 tqdm-4.67.1 typer-0.15.3 wrapt-1.17.2\n",
            "Cloning into 'MedicalNet'...\n",
            "remote: Enumerating objects: 120, done.\u001b[K\n",
            "remote: Counting objects: 100% (69/69), done.\u001b[K\n",
            "remote: Compressing objects: 100% (26/26), done.\u001b[K\n",
            "remote: Total 120 (delta 50), reused 43 (delta 43), pack-reused 51 (from 1)\u001b[K\n",
            "Receiving objects: 100% (120/120), 47.63 MiB | 10.24 MiB/s, done.\n",
            "Resolving deltas: 100% (50/50), done.\n",
            "--2025-05-05 17:10:29--  https://huggingface.co/TencentMedicalNet/MedicalNet-Resnet18/resolve/main/resnet_18_23dataset.pth\n",
            "3.161.104.53, 3.161.104.10, 3.161.104.73, ...\n",
            "Connecting to huggingface.co (huggingface.co)|3.161.104.53|:443... connected.\n",
            "HTTP request sent, awaiting response... 302 Found\n",
            "Location: https://cdn-lfs.hf.co/repos/dd/8a/dd8a9ae97766ca85e4667dfdd45a93597f605bee19ada224de91e5f50eb47e0c/61224f9317fcce873366deb3703183e92cc47325b726b69691b33536244e10f4?response-content-disposition=inline%3B+filename*%3DUTF-8%27%27resnet_18_23dataset.pth%3B+filename%3D%22resnet_18_23dataset.pth%22%3B&Expires=1746483030&Policy=eyJTdGF0ZW1lbnQiOlt7IkNvbmRpdGlvbiI6eyJEYXRlTGVzc1RoYW4iOnsiQVdTOkVwb2NoVGltZSI6MTc0NjQ4MzAzMH19LCJSZXNvdXJjZSI6Imh0dHBzOi8vY2RuLWxmcy5oZi5jby9yZXBvcy9kZC84YS9kZDhhOWFlOTc3NjZjYTg1ZTQ2NjdkZmRkNDVhOTM1OTdmNjA1YmVlMTlhZGEyMjRkZTkxZTVmNTBlYjQ3ZTBjLzYxMjI0ZjkzMTdmY2NlODczMzY2ZGViMzcwMzE4M2U5MmNjNDczMjViNzI2YjY5NjkxYjMzNTM2MjQ0ZTEwZjQ%7EcmVzcG9uc2UtY29udGVudC1kaXNwb3NpdGlvbj0qIn1dfQ__&Signature=acV0gV8stYS2clLA5kdGQaHc2AFGuVXJ5ospOt2EbBTzVKVLbhp9R3n8RBMeKhmuZ1OIs23eYjrlp2JX9vdajHz9V2W-nux804ED3fStenvxsxFFa-mVKmOyKJOz1VpTSlEsgz0nzWEMY%7ETNAjVq%7EnDXrF3Io0tijZ0oGuR7Fl9xtrsfFtMDNIAWSfpYe50MUjiARQsKPnsZfxQFz1Ya1K1fOUrAzVciXcilllwIrJA%7EHJkJA5EwRkelCljbmL1L44IW0Mkm6p%7EYdPSumv-ka5jLVIb66QDK-%7EVtvUpRC8Gb5X5SfjgTTzFUfM9hmtUCXBdpPvaDsYf6WAa1oLGTAA__&Key-Pair-Id=K3RPWS32NSSJCE [following]\n",
            "--2025-05-05 17:10:30--  https://cdn-lfs.hf.co/repos/dd/8a/dd8a9ae97766ca85e4667dfdd45a93597f605bee19ada224de91e5f50eb47e0c/61224f9317fcce873366deb3703183e92cc47325b726b69691b33536244e10f4?response-content-disposition=inline%3B+filename*%3DUTF-8%27%27resnet_18_23dataset.pth%3B+filename%3D%22resnet_18_23dataset.pth%22%3B&Expires=1746483030&Policy=eyJTdGF0ZW1lbnQiOlt7IkNvbmRpdGlvbiI6eyJEYXRlTGVzc1RoYW4iOnsiQVdTOkVwb2NoVGltZSI6MTc0NjQ4MzAzMH19LCJSZXNvdXJjZSI6Imh0dHBzOi8vY2RuLWxmcy5oZi5jby9yZXBvcy9kZC84YS9kZDhhOWFlOTc3NjZjYTg1ZTQ2NjdkZmRkNDVhOTM1OTdmNjA1YmVlMTlhZGEyMjRkZTkxZTVmNTBlYjQ3ZTBjLzYxMjI0ZjkzMTdmY2NlODczMzY2ZGViMzcwMzE4M2U5MmNjNDczMjViNzI2YjY5NjkxYjMzNTM2MjQ0ZTEwZjQ%7EcmVzcG9uc2UtY29udGVudC1kaXNwb3NpdGlvbj0qIn1dfQ__&Signature=acV0gV8stYS2clLA5kdGQaHc2AFGuVXJ5ospOt2EbBTzVKVLbhp9R3n8RBMeKhmuZ1OIs23eYjrlp2JX9vdajHz9V2W-nux804ED3fStenvxsxFFa-mVKmOyKJOz1VpTSlEsgz0nzWEMY%7ETNAjVq%7EnDXrF3Io0tijZ0oGuR7Fl9xtrsfFtMDNIAWSfpYe50MUjiARQsKPnsZfxQFz1Ya1K1fOUrAzVciXcilllwIrJA%7EHJkJA5EwRkelCljbmL1L44IW0Mkm6p%7EYdPSumv-ka5jLVIb66QDK-%7EVtvUpRC8Gb5X5SfjgTTzFUfM9hmtUCXBdpPvaDsYf6WAa1oLGTAA__&Key-Pair-Id=K3RPWS32NSSJCE\n",
            "18.64.141.63, 18.64.141.58, 18.64.141.88, ...\n",
            "Connecting to cdn-lfs.hf.co (cdn-lfs.hf.co)|18.64.141.63|:443... connected.\n",
            "HTTP request sent, awaiting response... 200 OK\n",
            "Length: 131992196 (126M) [binary/octet-stream]\n",
            "Saving to: ‘medicalnet_resnet18.pth’\n",
            "\n",
            "medicalnet_resnet18 100%[===================>] 125.88M  26.2MB/s    in 5.0s    \n",
            "\n",
            "2025-05-05 17:10:35 (25.1 MB/s) - ‘medicalnet_resnet18.pth’ saved [131992196/131992196]\n",
            "\n"
          ]
        }
      ],
      "source": [
        "!pip install pydicom\n",
        "!pip install torch\n",
        "!pip install torchio\n",
        "\n",
        "\n",
        "!git clone https://github.com/Tencent/MedicalNet.git\n",
        "!wget https://huggingface.co/TencentMedicalNet/MedicalNet-Resnet18/resolve/main/resnet_18_23dataset.pth -O medicalnet_resnet18.pth\n",
        "\n",
        "\n",
        "\n"
      ]
    },
    {
      "cell_type": "code",
      "execution_count": null,
      "metadata": {},
      "outputs": [],
      "source": [
        "!mv /content/MedicalNet/* /content/\n",
        "!mv /content/MedicalNet/.* /content/ 2>/dev/null  # hidden files\n",
        "\n",
        "import sys\n",
        "sys.path.append('/content/model.py')\n"
      ]
    },
    {
      "cell_type": "code",
      "execution_count": null,
      "metadata": {
        "id": "UyTDhxjB2SCd"
      },
      "outputs": [],
      "source": [
        "!mv /content/MedicalNet/* /content/\n",
        "!mv /content/MedicalNet/.* /content/ 2>/dev/null  # hidden files\n",
        "\n",
        "import sys\n",
        "sys.path.append('/content/model.py')\n"
      ]
    },
    {
      "cell_type": "code",
      "execution_count": null,
      "metadata": {
        "id": "9k6hT5RVtEmI"
      },
      "outputs": [],
      "source": [
        "\n",
        "import matplotlib.pyplot as plt\n",
        "import os\n",
        "import time\n",
        "import numpy as np\n",
        "import glob\n",
        "import json\n",
        "import collections\n",
        "import torch\n",
        "import torch.nn as nn\n",
        "\n",
        "import pydicom as dicom\n",
        "import matplotlib.patches as patches\n",
        "\n",
        "from matplotlib import animation, rc\n",
        "import pandas as pd\n",
        "\n",
        "import pydicom as dicom # dicom\n",
        "import pydicom\n",
        "from pydicom.pixel_data_handlers.util import apply_voi_lut\n"
      ]
    },
    {
      "cell_type": "code",
      "execution_count": null,
      "metadata": {
        "colab": {
          "base_uri": "https://localhost:8080/"
        },
        "id": "s_ZAZ1Ckizcw",
        "outputId": "568df83f-0a73-45cc-f2a6-5bfe8346bd79"
      },
      "outputs": [
        {
          "name": "stdout",
          "output_type": "stream",
          "text": [
            "Mounted at /content/drive\n"
          ]
        }
      ],
      "source": [
        "from google.colab import drive\n",
        "drive.mount('/content/drive')"
      ]
    },
    {
      "cell_type": "code",
      "execution_count": null,
      "metadata": {
        "colab": {
          "base_uri": "https://localhost:8080/"
        },
        "collapsed": true,
        "id": "L52fONSgkrHO",
        "jupyter": {
          "outputs_hidden": true
        },
        "outputId": "7924ae16-53b0-4949-95c6-8f7a4acc38d3"
      },
      "outputs": [
        {
          "name": "stdout",
          "output_type": "stream",
          "text": [
            "         study_id                    condition  level   series_id  \\\n",
            "0         4003253        Spinal Canal Stenosis  L1/L2   702807833   \n",
            "1         4003253        Spinal Canal Stenosis  L2/L3   702807833   \n",
            "2         4003253        Spinal Canal Stenosis  L3/L4   702807833   \n",
            "3         4003253        Spinal Canal Stenosis  L4/L5   702807833   \n",
            "4         4003253        Spinal Canal Stenosis  L5/S1   702807833   \n",
            "...           ...                          ...    ...         ...   \n",
            "48652  4290709089  Right Subarticular Stenosis  L1/L2  3390218084   \n",
            "48653  4290709089  Right Subarticular Stenosis  L2/L3  3390218084   \n",
            "48654  4290709089  Right Subarticular Stenosis  L3/L4  3390218084   \n",
            "48655  4290709089  Right Subarticular Stenosis  L4/L5  3390218084   \n",
            "48656  4290709089  Right Subarticular Stenosis  L5/S1  3390218084   \n",
            "\n",
            "       instance_number  \n",
            "0                    8  \n",
            "1                    8  \n",
            "2                    8  \n",
            "3                    8  \n",
            "4                    8  \n",
            "...                ...  \n",
            "48652                2  \n",
            "48653                6  \n",
            "48654               10  \n",
            "48655               15  \n",
            "48656               21  \n",
            "\n",
            "[48657 rows x 5 columns]\n"
          ]
        }
      ],
      "source": [
        "train_data=pd.read_csv(\"/content/drive/MyDrive/FYPDataset/rsna-2024-lumbar-spine-degenerative-classification/train_data.csv\")\n",
        "train_data = train_data[['study_id', 'condition', 'level', 'series_id', 'instance_number']]\n",
        "print(train_data)"
      ]
    },
    {
      "cell_type": "code",
      "execution_count": null,
      "metadata": {
        "colab": {
          "base_uri": "https://localhost:8080/"
        },
        "id": "7OadMP21e-dZ",
        "outputId": "00a58cf9-e135-4e45-93ea-626931d34cec"
      },
      "outputs": [
        {
          "name": "stdout",
          "output_type": "stream",
          "text": [
            "Total distinct study_ids: 1634\n",
            "Filtered entries: 40233\n"
          ]
        }
      ],
      "source": [
        "# Step 1: Count number of distinct series_ids per study_id\n",
        "series_count = train_data.groupby('study_id')['series_id'].nunique()\n",
        "\n",
        "# Step 2: Get study_ids with exactly 3 distinct series_ids\n",
        "valid_studies = series_count[series_count == 3].index\n",
        "\n",
        "# Step 3: Filter the original DataFrame to keep only those study_ids\n",
        "df_cleaned = train_data[train_data['study_id'].isin(valid_studies)]\n",
        "\n",
        "\n",
        "distinct_study_count = df_cleaned['study_id'].nunique()\n",
        "print(f\"Total distinct study_ids: {distinct_study_count}\")\n",
        "print(f\"Filtered entries: {len(df_cleaned)}\")"
      ]
    },
    {
      "cell_type": "code",
      "execution_count": null,
      "metadata": {
        "colab": {
          "base_uri": "https://localhost:8080/"
        },
        "collapsed": true,
        "id": "ZauFc5LpzZ2Y",
        "jupyter": {
          "outputs_hidden": true
        },
        "outputId": "8e4bdd27-471b-491d-b504-7ddde4ce4785"
      },
      "outputs": [
        {
          "name": "stdout",
          "output_type": "stream",
          "text": [
            "Spinal Canal Stenosis Processed:\n",
            "level  study_id   series_id  level_L1/L2_Instance_number  \\\n",
            "0       4003253   702807833                            8   \n",
            "1       4646740  3666319702                           10   \n",
            "2       7143189   132939515                            9   \n",
            "3       8785691   481125819                            8   \n",
            "4      11340341  3543553307                           10   \n",
            "\n",
            "level  level_L2/L3_Instance_number  level_L3/L4_Instance_number  \\\n",
            "0                                8                            8   \n",
            "1                               10                            9   \n",
            "2                                9                            9   \n",
            "3                                8                            8   \n",
            "4                               10                           10   \n",
            "\n",
            "level  level_L4/L5_Instance_number  level_L5/S1_Instance_number  \n",
            "0                                8                            8  \n",
            "1                               10                           11  \n",
            "2                                9                            9  \n",
            "3                                8                            8  \n",
            "4                               10                           10  \n",
            "\n",
            "Neural Foraminal Narrowing Processed:\n",
            "   study_id   series_id  Left_level_L1/L2_Instance_number  \\\n",
            "0   4003253  1054713880                              11.0   \n",
            "1   4646740  3486248476                               6.0   \n",
            "2   7143189  3219733239                              12.0   \n",
            "3   8785691  1570286759                              10.0   \n",
            "4  11340341  2231042680                              12.0   \n",
            "\n",
            "   Left_level_L2/L3_Instance_number  Left_level_L3/L4_Instance_number  \\\n",
            "0                              12.0                              12.0   \n",
            "1                               5.0                               5.0   \n",
            "2                              12.0                              13.0   \n",
            "3                              11.0                              11.0   \n",
            "4                              13.0                              13.0   \n",
            "\n",
            "   Left_level_L4/L5_Instance_number  Left_level_L5/S1_Instance_number  \\\n",
            "0                              11.0                              11.0   \n",
            "1                               5.0                               7.0   \n",
            "2                              12.0                              12.0   \n",
            "3                              11.0                              11.0   \n",
            "4                              13.0                              13.0   \n",
            "\n",
            "   Right_level_L1/L2_Instance_number  Right_level_L2/L3_Instance_number  \\\n",
            "0                                6.0                                6.0   \n",
            "1                               16.0                               15.0   \n",
            "2                                5.0                                5.0   \n",
            "3                                4.0                                4.0   \n",
            "4                                6.0                                6.0   \n",
            "\n",
            "   Right_level_L3/L4_Instance_number  Right_level_L4/L5_Instance_number  \\\n",
            "0                                5.0                                4.0   \n",
            "1                               15.0                               17.0   \n",
            "2                                5.0                                5.0   \n",
            "3                                4.0                                4.0   \n",
            "4                                6.0                                5.0   \n",
            "\n",
            "   Right_level_L5/S1_Instance_number  \n",
            "0                                4.0  \n",
            "1                               17.0  \n",
            "2                                4.0  \n",
            "3                                4.0  \n",
            "4                                5.0  \n",
            "\n",
            "Subarticular Stenosis Processed:\n",
            "   study_id   series_id  Left_level_L1/L2_Instance_number  \\\n",
            "0   4003253  2448190387                               3.0   \n",
            "1   4646740  3201256954                              16.0   \n",
            "2   7143189  1951927562                               1.0   \n",
            "3   8785691  2406919186                               3.0   \n",
            "4  11340341  1224932122                               5.0   \n",
            "\n",
            "   Left_level_L2/L3_Instance_number  Left_level_L3/L4_Instance_number  \\\n",
            "0                              11.0                              19.0   \n",
            "1                              22.0                              29.0   \n",
            "2                               6.0                              11.0   \n",
            "3                               8.0                              12.0   \n",
            "4                              15.0                              24.0   \n",
            "\n",
            "   Left_level_L4/L5_Instance_number  Left_level_L5/S1_Instance_number  \\\n",
            "0                              28.0                              35.0   \n",
            "1                              34.0                              40.0   \n",
            "2                              16.0                              20.0   \n",
            "3                              16.0                              20.0   \n",
            "4                              33.0                              42.0   \n",
            "\n",
            "   Right_level_L1/L2_Instance_number  Right_level_L2/L3_Instance_number  \\\n",
            "0                                4.0                               11.0   \n",
            "1                               15.0                               22.0   \n",
            "2                                2.0                                7.0   \n",
            "3                                3.0                                7.0   \n",
            "4                                6.0                               15.0   \n",
            "\n",
            "   Right_level_L3/L4_Instance_number  Right_level_L4/L5_Instance_number  \\\n",
            "0                               19.0                               28.0   \n",
            "1                               28.0                               34.0   \n",
            "2                               11.0                               17.0   \n",
            "3                               11.0                               17.0   \n",
            "4                               24.0                               33.0   \n",
            "\n",
            "   Right_level_L5/S1_Instance_number  \n",
            "0                               35.0  \n",
            "1                               40.0  \n",
            "2                               21.0  \n",
            "3                               20.0  \n",
            "4                               42.0  \n"
          ]
        }
      ],
      "source": [
        "import pandas as pd\n",
        "\n",
        "\n",
        "# Function to process datasets\n",
        "def process_condition(df_condition, is_spinal_canal=False):\n",
        "    df_condition = df_condition.copy()\n",
        "    pivot_columns = []\n",
        "\n",
        "    if is_spinal_canal:\n",
        "        # For Spinal Canal Stenosis (single side)\n",
        "        for level in ['L1/L2', 'L2/L3', 'L3/L4', 'L4/L5', 'L5/S1']:\n",
        "            pivot_columns.append(f'level_{level}_Instance_number')\n",
        "    else:\n",
        "        # For Left and Right versions (double sides)\n",
        "        for side in ['Left', 'Right']:\n",
        "            for level in ['L1/L2', 'L2/L3', 'L3/L4', 'L4/L5', 'L5/S1']:\n",
        "                pivot_columns.append(f'{side}_level_{level}_Instance_number')\n",
        "\n",
        "    # Create a new column to distinguish Left/Right for double sided conditions\n",
        "    if not is_spinal_canal:\n",
        "        df_condition['side'] = df_condition['condition'].apply(lambda x: 'Left' if 'Left' in x else 'Right')\n",
        "\n",
        "    # Pivot logic\n",
        "    if is_spinal_canal:\n",
        "        pivot_df = df_condition.pivot(index=['study_id', 'series_id'], columns='level', values='instance_number')\n",
        "        pivot_df = pivot_df.rename(columns={\n",
        "            'L1/L2': 'level_L1/L2_Instance_number',\n",
        "            'L2/L3': 'level_L2/L3_Instance_number',\n",
        "            'L3/L4': 'level_L3/L4_Instance_number',\n",
        "            'L4/L5': 'level_L4/L5_Instance_number',\n",
        "            'L5/S1': 'level_L5/S1_Instance_number'\n",
        "        })\n",
        "    else:\n",
        "        # For Left and Right combined\n",
        "        pivot_df = df_condition.pivot_table(index=['study_id', 'series_id'],\n",
        "                                            columns=['side', 'level'],\n",
        "                                            values='instance_number')\n",
        "        # Flatten columns\n",
        "        pivot_df.columns = [f'{side}_level_{lvl}_Instance_number' for side, lvl in pivot_df.columns]\n",
        "\n",
        "    # Reset index for clean DataFrame\n",
        "    pivot_df = pivot_df.reset_index()\n",
        "\n",
        "    return pivot_df\n",
        "\n",
        "# Step 3: Create different condition DataFrames\n",
        "\n",
        "# (1) Spinal Canal Stenosis\n",
        "df_spinal_canal = df_cleaned[df_cleaned['condition'] == 'Spinal Canal Stenosis']\n",
        "df_spinal_canal_processed = process_condition(df_spinal_canal, is_spinal_canal=True)\n",
        "\n",
        "# (2) Neural Foraminal Narrowing (Left + Right combined)\n",
        "df_neural_foraminal = df_cleaned[df_cleaned['condition'].str.contains('Neural Foraminal Narrowing')]\n",
        "df_neural_foraminal_processed = process_condition(df_neural_foraminal, is_spinal_canal=False)\n",
        "\n",
        "# (3) Subarticular Stenosis (Left + Right combined)\n",
        "df_subarticular_stenosis = df_cleaned[df_cleaned['condition'].str.contains('Subarticular Stenosis')]\n",
        "df_subarticular_stenosis_processed = process_condition(df_subarticular_stenosis, is_spinal_canal=False)\n",
        "\n",
        "# Final Output\n",
        "print(\"Spinal Canal Stenosis Processed:\")\n",
        "print(df_spinal_canal_processed.head())\n",
        "\n",
        "print(\"\\nNeural Foraminal Narrowing Processed:\")\n",
        "print(df_neural_foraminal_processed.head())\n",
        "\n",
        "print(\"\\nSubarticular Stenosis Processed:\")\n",
        "print(df_subarticular_stenosis_processed.head())\n"
      ]
    },
    {
      "cell_type": "code",
      "execution_count": null,
      "metadata": {
        "colab": {
          "base_uri": "https://localhost:8080/"
        },
        "collapsed": true,
        "id": "PcE1VQKr5YEy",
        "jupyter": {
          "outputs_hidden": true
        },
        "outputId": "49b23212-fc0b-4156-89fa-24778421dff9"
      },
      "outputs": [
        {
          "name": "stdout",
          "output_type": "stream",
          "text": [
            "Spinal Canal Stenosis Processed:\n",
            "1465\n",
            "\n",
            "Neural Foraminal Narrowing Processed:\n",
            "1465\n",
            "\n",
            "Subarticular Stenosis Processed:\n",
            "1465\n"
          ]
        }
      ],
      "source": [
        "print(\"Spinal Canal Stenosis Processed:\")\n",
        "print(len(df_spinal_canal_processed))\n",
        "\n",
        "print(\"\\nNeural Foraminal Narrowing Processed:\")\n",
        "print(len(df_neural_foraminal_processed))\n",
        "\n",
        "print(\"\\nSubarticular Stenosis Processed:\")\n",
        "print(len(df_subarticular_stenosis_processed))"
      ]
    },
    {
      "cell_type": "code",
      "execution_count": null,
      "metadata": {
        "id": "QXVoHYTm2Z8I"
      },
      "outputs": [],
      "source": [
        "existing_study_ids = []  # or pre-populate with some values\n",
        "\n",
        "# Step 1: Find rows with at least one NaN\n",
        "rows_with_nan = df_spinal_canal_processed[df_spinal_canal_processed.isna().any(axis=1)]\n",
        "#rows_with_nan = df_neural_foraminal_processed[df_neural_foraminal_processed.isna().any(axis=1)]\n",
        "#rows_with_nan = df_subarticular_stenosis_processed[df_subarticular_stenosis_processed.isna().any(axis=1)]\n",
        "\n",
        "# Step 2: Extract unique study_ids from those rows\n",
        "nan_study_ids = rows_with_nan['study_id'].unique()\n",
        "\n",
        "# Step 3: Append only new study_ids to the existing list\n",
        "for study_id in nan_study_ids:\n",
        "    if study_id not in existing_study_ids:\n",
        "        existing_study_ids.append(study_id)\n",
        "\n",
        "df_spinal_canal_processed = df_spinal_canal_processed[~df_spinal_canal_processed['study_id'].isin(existing_study_ids)]\n",
        "#df_neural_foraminal_processed = df_neural_foraminal_processed[~df_neural_foraminal_processed['study_id'].isin(existing_study_ids)]\n",
        "#df_subarticular_stenosis_processed = df_subarticular_stenosis_processed[~df_subarticular_stenosis_processed['study_id'].isin(existing_study_ids)]"
      ]
    },
    {
      "cell_type": "code",
      "execution_count": null,
      "metadata": {
        "colab": {
          "base_uri": "https://localhost:8080/"
        },
        "id": "Cz-aqFF32azM",
        "outputId": "162cb2c9-06ff-4fcf-afa3-d5f3013a9b1d"
      },
      "outputs": [
        {
          "name": "stdout",
          "output_type": "stream",
          "text": [
            "✅ All files saved successfully.\n"
          ]
        }
      ],
      "source": [
        "df_spinal_canal_processed.to_csv('/content/drive/MyDrive/FYPDataset/rsna-2024-lumbar-spine-degenerative-classification/spinal_canal_processed.csv', index=False)\n",
        "df_neural_foraminal_processed.to_csv('/content/drive/MyDrive/FYPDataset/rsna-2024-lumbar-spine-degenerative-classification/neural_foraminal_processed.csv', index=False)\n",
        "df_subarticular_stenosis_processed.to_csv('/content/drive/MyDrive/FYPDataset/rsna-2024-lumbar-spine-degenerative-classification/subarticular_stenosis_processed.csv', index=False)\n",
        "\n",
        "print(\"✅ All files saved successfully.\")"
      ]
    },
    {
      "cell_type": "code",
      "execution_count": null,
      "metadata": {
        "colab": {
          "base_uri": "https://localhost:8080/"
        },
        "id": "Qow8X3hGG8PX",
        "outputId": "70119a08-eb0b-4470-a94c-9fa6ae54ffdb"
      },
      "outputs": [
        {
          "name": "stdout",
          "output_type": "stream",
          "text": [
            "        study_id   series_id  level_L1/L2_Instance_number  \\\n",
            "0        4003253   702807833                            8   \n",
            "1        4646740  3666319702                           10   \n",
            "2        7143189   132939515                            9   \n",
            "3        8785691   481125819                            8   \n",
            "4       11340341  3543553307                           10   \n",
            "...          ...         ...                          ...   \n",
            "1460  4282019580  1547999333                           11   \n",
            "1461  4283570761   453728183                            9   \n",
            "1462  4284048608  3767301072                           10   \n",
            "1463  4287160193  1507070277                            8   \n",
            "1464  4290709089  3274612423                            9   \n",
            "\n",
            "      level_L2/L3_Instance_number  level_L3/L4_Instance_number  \\\n",
            "0                               8                            8   \n",
            "1                              10                            9   \n",
            "2                               9                            9   \n",
            "3                               8                            8   \n",
            "4                              10                           10   \n",
            "...                           ...                          ...   \n",
            "1460                           11                           11   \n",
            "1461                            9                            9   \n",
            "1462                           10                           10   \n",
            "1463                            8                            8   \n",
            "1464                            9                            9   \n",
            "\n",
            "      level_L4/L5_Instance_number  level_L5/S1_Instance_number  \n",
            "0                               8                            8  \n",
            "1                              10                           11  \n",
            "2                               9                            9  \n",
            "3                               8                            8  \n",
            "4                              10                           10  \n",
            "...                           ...                          ...  \n",
            "1460                           11                           11  \n",
            "1461                            9                            9  \n",
            "1462                           12                           12  \n",
            "1463                            8                            8  \n",
            "1464                            9                            9  \n",
            "\n",
            "[1465 rows x 7 columns]         study_id   series_id  Left_level_L1/L2_Instance_number  \\\n",
            "0        4003253  1054713880                              11.0   \n",
            "1        4646740  3486248476                               6.0   \n",
            "2        7143189  3219733239                              12.0   \n",
            "3        8785691  1570286759                              10.0   \n",
            "4       11340341  2231042680                              12.0   \n",
            "...          ...         ...                               ...   \n",
            "1460  4282019580  3029774733                               7.0   \n",
            "1461  4283570761  2708429184                              12.0   \n",
            "1462  4284048608  1875151370                              14.0   \n",
            "1463  4287160193   327893304                               4.0   \n",
            "1464  4290709089  4237840455                              11.0   \n",
            "\n",
            "      Left_level_L2/L3_Instance_number  Left_level_L3/L4_Instance_number  \\\n",
            "0                                 12.0                              12.0   \n",
            "1                                  5.0                               5.0   \n",
            "2                                 12.0                              13.0   \n",
            "3                                 11.0                              11.0   \n",
            "4                                 13.0                              13.0   \n",
            "...                                ...                               ...   \n",
            "1460                               7.0                               7.0   \n",
            "1461                              12.0                              13.0   \n",
            "1462                              14.0                              16.0   \n",
            "1463                               4.0                               4.0   \n",
            "1464                              12.0                              12.0   \n",
            "\n",
            "      Left_level_L4/L5_Instance_number  Left_level_L5/S1_Instance_number  \\\n",
            "0                                 11.0                              11.0   \n",
            "1                                  5.0                               7.0   \n",
            "2                                 12.0                              12.0   \n",
            "3                                 11.0                              11.0   \n",
            "4                                 13.0                              13.0   \n",
            "...                                ...                               ...   \n",
            "1460                               7.0                               7.0   \n",
            "1461                              13.0                              12.0   \n",
            "1462                              17.0                              17.0   \n",
            "1463                               4.0                               4.0   \n",
            "1464                              12.0                              12.0   \n",
            "\n",
            "      Right_level_L1/L2_Instance_number  Right_level_L2/L3_Instance_number  \\\n",
            "0                                   6.0                                6.0   \n",
            "1                                  16.0                               15.0   \n",
            "2                                   5.0                                5.0   \n",
            "3                                   4.0                                4.0   \n",
            "4                                   6.0                                6.0   \n",
            "...                                 ...                                ...   \n",
            "1460                               14.0                               15.0   \n",
            "1461                                6.0                                6.0   \n",
            "1462                                6.0                                6.0   \n",
            "1463                               10.0                               11.0   \n",
            "1464                                5.0                                4.0   \n",
            "\n",
            "      Right_level_L3/L4_Instance_number  Right_level_L4/L5_Instance_number  \\\n",
            "0                                   5.0                                4.0   \n",
            "1                                  15.0                               17.0   \n",
            "2                                   5.0                                5.0   \n",
            "3                                   4.0                                4.0   \n",
            "4                                   6.0                                5.0   \n",
            "...                                 ...                                ...   \n",
            "1460                               15.0                               16.0   \n",
            "1461                                5.0                                5.0   \n",
            "1462                                6.0                                6.0   \n",
            "1463                               12.0                               12.0   \n",
            "1464                                4.0                                4.0   \n",
            "\n",
            "      Right_level_L5/S1_Instance_number  \n",
            "0                                   4.0  \n",
            "1                                  17.0  \n",
            "2                                   4.0  \n",
            "3                                   4.0  \n",
            "4                                   5.0  \n",
            "...                                 ...  \n",
            "1460                               16.0  \n",
            "1461                                4.0  \n",
            "1462                                6.0  \n",
            "1463                               12.0  \n",
            "1464                                4.0  \n",
            "\n",
            "[1465 rows x 12 columns]         study_id   series_id  Left_level_L1/L2_Instance_number  \\\n",
            "0        4003253  2448190387                               3.0   \n",
            "1        4646740  3201256954                              16.0   \n",
            "2        7143189  1951927562                               1.0   \n",
            "3        8785691  2406919186                               3.0   \n",
            "4       11340341  1224932122                               5.0   \n",
            "...          ...         ...                               ...   \n",
            "1460  4282019580   121051321                              11.0   \n",
            "1461  4283570761  3321662903                              14.0   \n",
            "1462  4284048608  3891595425                               7.0   \n",
            "1463  4287160193  1820446240                              28.0   \n",
            "1464  4290709089  3390218084                               3.0   \n",
            "\n",
            "      Left_level_L2/L3_Instance_number  Left_level_L3/L4_Instance_number  \\\n",
            "0                                 11.0                              19.0   \n",
            "1                                 22.0                              29.0   \n",
            "2                                  6.0                              11.0   \n",
            "3                                  8.0                              12.0   \n",
            "4                                 15.0                              24.0   \n",
            "...                                ...                               ...   \n",
            "1460                              19.0                              26.0   \n",
            "1461                              22.0                              31.0   \n",
            "1462                              13.0                              20.0   \n",
            "1463                              22.0                              16.0   \n",
            "1464                               5.0                              10.0   \n",
            "\n",
            "      Left_level_L4/L5_Instance_number  Left_level_L5/S1_Instance_number  \\\n",
            "0                                 28.0                              35.0   \n",
            "1                                 34.0                              40.0   \n",
            "2                                 16.0                              20.0   \n",
            "3                                 16.0                              20.0   \n",
            "4                                 33.0                              42.0   \n",
            "...                                ...                               ...   \n",
            "1460                              33.0                              38.0   \n",
            "1461                              41.0                              48.0   \n",
            "1462                              30.0                              35.0   \n",
            "1463                               9.0                               4.0   \n",
            "1464                              15.0                              20.0   \n",
            "\n",
            "      Right_level_L1/L2_Instance_number  Right_level_L2/L3_Instance_number  \\\n",
            "0                                   4.0                               11.0   \n",
            "1                                  15.0                               22.0   \n",
            "2                                   2.0                                7.0   \n",
            "3                                   3.0                                7.0   \n",
            "4                                   6.0                               15.0   \n",
            "...                                 ...                                ...   \n",
            "1460                               11.0                               18.0   \n",
            "1461                               14.0                               22.0   \n",
            "1462                                6.0                               13.0   \n",
            "1463                               28.0                               22.0   \n",
            "1464                                2.0                                6.0   \n",
            "\n",
            "      Right_level_L3/L4_Instance_number  Right_level_L4/L5_Instance_number  \\\n",
            "0                                  19.0                               28.0   \n",
            "1                                  28.0                               34.0   \n",
            "2                                  11.0                               17.0   \n",
            "3                                  11.0                               17.0   \n",
            "4                                  24.0                               33.0   \n",
            "...                                 ...                                ...   \n",
            "1460                               26.0                               33.0   \n",
            "1461                               32.0                               41.0   \n",
            "1462                               23.0                               30.0   \n",
            "1463                               16.0                               10.0   \n",
            "1464                               10.0                               15.0   \n",
            "\n",
            "      Right_level_L5/S1_Instance_number  \n",
            "0                                  35.0  \n",
            "1                                  40.0  \n",
            "2                                  21.0  \n",
            "3                                  20.0  \n",
            "4                                  42.0  \n",
            "...                                 ...  \n",
            "1460                               38.0  \n",
            "1461                               48.0  \n",
            "1462                               36.0  \n",
            "1463                                4.0  \n",
            "1464                               21.0  \n",
            "\n",
            "[1465 rows x 12 columns]\n"
          ]
        }
      ],
      "source": [
        "df_spinal_canal_processed=pd.read_csv(\"/content/drive/MyDrive/FYPDataset/rsna-2024-lumbar-spine-degenerative-classification/spinal_canal_processed.csv\")\n",
        "df_neural_foraminal_processed=pd.read_csv(\"/content/drive/MyDrive/FYPDataset/rsna-2024-lumbar-spine-degenerative-classification/neural_foraminal_processed.csv\")\n",
        "df_subarticular_stenosis_processed=pd.read_csv(\"/content/drive/MyDrive/FYPDataset/rsna-2024-lumbar-spine-degenerative-classification/subarticular_stenosis_processed.csv\")\n",
        "print(df_spinal_canal_processed, df_neural_foraminal_processed, df_subarticular_stenosis_processed)"
      ]
    },
    {
      "cell_type": "code",
      "execution_count": null,
      "metadata": {
        "colab": {
          "base_uri": "https://localhost:8080/"
        },
        "id": "2AJcO5FTzBnD",
        "outputId": "346c0233-8234-4855-f042-5ffdb8b264be"
      },
      "outputs": [
        {
          "name": "stdout",
          "output_type": "stream",
          "text": [
            "Train size: 1172\n",
            "Val size: 293\n",
            "Len trainloader: 74\n",
            "Samples per batch: 16\n",
            "Total samples: 1172\n",
            "Train size: 1172\n",
            "Val size: 293\n",
            "Len trainloader: 74\n",
            "Samples per batch: 16\n",
            "Total samples: 1172\n",
            "Train size: 1172\n",
            "Val size: 293\n",
            "Len trainloader: 74\n",
            "Samples per batch: 16\n",
            "Total samples: 1172\n"
          ]
        }
      ],
      "source": [
        "import os\n",
        "import torch\n",
        "import numpy as np\n",
        "import pandas as pd\n",
        "import cv2\n",
        "import pydicom\n",
        "import torchio as tio\n",
        "from torch.utils.data import Dataset, DataLoader\n",
        "from sklearn.model_selection import train_test_split\n",
        "\n",
        "\n",
        "def get_3d_transform_pipeline(is_train=True):\n",
        "    transforms = [\n",
        "        tio.Resample((1.5, 1.5, 3.0)),             # Spatial normalization to median voxel spacing\n",
        "        tio.CropOrPad((16, 112, 112)),             # Fixed input size\n",
        "        tio.ZNormalization(),                      # Intensity normalization (mean 0, std 1)\n",
        "        tio.Clamp(out_min=-5, out_max=5),          # Truncate outliers\n",
        "    ]\n",
        "\n",
        "    if is_train:\n",
        "        transforms += [\n",
        "            tio.RandomAffine(scales=(0.9, 1.1), degrees=10, translation=5, p=0.5),\n",
        "            tio.RandomNoise(p=0.3),\n",
        "            tio.RandomBiasField(p=0.25),\n",
        "        ]\n",
        "\n",
        "    return tio.Compose(transforms)\n",
        "\n",
        "class SpinalVolumeDataset(Dataset):\n",
        "    def __init__(self, dataframe, base_dir, label_cols, is_train=True):\n",
        "        \"\"\"\n",
        "        :param dataframe: DataFrame with study_id, series_id, and instance number labels\n",
        "        :param base_dir: Base folder path containing /study_id/series_id/*.dcm structure\n",
        "        :param label_cols: List of column names for target labels (5 or 10)\n",
        "        :param is_train: Whether to apply TorchIO 3D augmentations\n",
        "        \"\"\"\n",
        "        self.df = dataframe\n",
        "        self.base_dir = base_dir\n",
        "        self.label_cols = label_cols\n",
        "        self.is_train = is_train\n",
        "\n",
        "        # Define 3D augmentation pipeline\n",
        "        self.transform = get_3d_transform_pipeline(is_train)\n",
        "\n",
        "    def __len__(self):\n",
        "        return len(self.df)\n",
        "\n",
        "    def __getitem__(self, idx):\n",
        "        row = self.df.iloc[idx]\n",
        "        study_id = str(int(float(self.df['study_id'][idx])))\n",
        "        series_id = str(int(float(self.df['series_id'][idx])))\n",
        "\n",
        "\n",
        "        volume_path = os.path.join(self.base_dir, study_id, series_id)\n",
        "\n",
        "        # Load sorted volume\n",
        "        volume = self.load_dicom_volume_sorted(volume_path)  # shape: (D, H, W)\n",
        "        depth = volume.shape[0]\n",
        "\n",
        "        volume = np.expand_dims(volume, axis=0)  # shape: (1, D, H, W)\n",
        "\n",
        "        # Apply TorchIO transforms\n",
        "        subject = tio.Subject(img=tio.ScalarImage(tensor=volume))\n",
        "        transformed = self.transform(subject)\n",
        "        volume = transformed.img.data  # (1, D, H, W)\n",
        "\n",
        "        # Normalize labels\n",
        "        target = torch.tensor([row[col] for col in self.label_cols], dtype=torch.float32)\n",
        "        target = target / depth\n",
        "\n",
        "        return volume, target\n",
        "\n",
        "    def load_dicom_volume_sorted(self, folder_path):\n",
        "        # Read DICOM files sorted by InstanceNumber\n",
        "        slice_list = []\n",
        "        for fname in os.listdir(folder_path):\n",
        "            if fname.endswith('.dcm'):\n",
        "                full_path = os.path.join(folder_path, fname)\n",
        "                dcm = pydicom.dcmread(full_path)\n",
        "                instance_number = getattr(dcm, 'InstanceNumber', 0)\n",
        "                slice_list.append((instance_number, dcm))\n",
        "\n",
        "        slice_list.sort(key=lambda x: x[0])\n",
        "\n",
        "        volume = []\n",
        "        for _, dcm in slice_list:\n",
        "            img = dcm.pixel_array.astype(np.float32)\n",
        "            img = cv2.resize(img, (112, 112))\n",
        "            img = img / np.max(img) if np.max(img) > 0 else img\n",
        "            volume.append(img)\n",
        "\n",
        "        volume = np.stack(volume, axis=0)  # shape: (D, H, W)\n",
        "        return volume\n",
        "\n",
        "\n",
        "\n",
        "def create_datasets_and_loaders(df, cond, batch_size=16):\n",
        "\n",
        "    # Create train/validation split\n",
        "    train_df, val_df = train_test_split(df, test_size=0.2, random_state=42)\n",
        "\n",
        "    train_df = train_df.reset_index(drop=True)\n",
        "    val_df = val_df.reset_index(drop=True)\n",
        "\n",
        "\n",
        "    # Create dataset objects\n",
        "    if cond =='scs':\n",
        "       label_cols = ['level_L1/L2_Instance_number',\n",
        "                     'level_L2/L3_Instance_number',\n",
        "                     'level_L3/L4_Instance_number',\n",
        "                     'level_L4/L5_Instance_number',\n",
        "                     'level_L5/S1_Instance_number',]\n",
        "\n",
        "    else:\n",
        "      label_cols = ['Left_level_L1/L2_Instance_number',\n",
        "                    'Left_level_L2/L3_Instance_number',\n",
        "                    'Left_level_L3/L4_Instance_number',\n",
        "                    'Left_level_L4/L5_Instance_number',\n",
        "                    'Left_level_L5/S1_Instance_number',\n",
        "                    'Right_level_L1/L2_Instance_number',\n",
        "                    'Right_level_L2/L3_Instance_number',\n",
        "                    'Right_level_L3/L4_Instance_number',\n",
        "                    'Right_level_L4/L5_Instance_number',\n",
        "                    'Right_level_L5/S1_Instance_number',]\n",
        "\n",
        "    train_dataset = SpinalVolumeDataset(\n",
        "    dataframe=train_df,\n",
        "    base_dir='/content/drive/MyDrive/FYPDataset/rsna-2024-lumbar-spine-degenerative-classification/train_images',\n",
        "    label_cols=label_cols,\n",
        "    is_train=True\n",
        ")\n",
        "\n",
        "    val_dataset  = SpinalVolumeDataset(\n",
        "    dataframe=val_df,\n",
        "    base_dir='/content/drive/MyDrive/FYPDataset/rsna-2024-lumbar-spine-degenerative-classification/train_images',\n",
        "    label_cols=label_cols,\n",
        "    is_train=False\n",
        ")\n",
        "\n",
        "    # Create dataloaders\n",
        "    trainloader = DataLoader(train_dataset, batch_size=batch_size, shuffle=True,  num_workers=0)\n",
        "    valloader = DataLoader(val_dataset, batch_size=batch_size, shuffle=False, num_workers=0)\n",
        "    print(\"Train size:\", len(train_df))\n",
        "    print(\"Val size:\", len(val_df))\n",
        "    print(\"Len trainloader:\", len(trainloader))          # number of batches\n",
        "    print(\"Samples per batch:\", trainloader.batch_size)  # should be 32\n",
        "    print(\"Total samples:\", len(trainloader.dataset))    # should be close to 1172\n",
        "\n",
        "\n",
        "\n",
        "    return trainloader, valloader, len(train_df), len(val_df)\n",
        "\n",
        "dataloaders = {}\n",
        "lengths = {}\n",
        "\n",
        "trainloader_t1, valloader_t1, len_train_t1, len_val_t1 = create_datasets_and_loaders(df=df_neural_foraminal_processed, cond='nfn')\n",
        "trainloader_t2, valloader_t2, len_train_t2, len_val_t2 = create_datasets_and_loaders(df=df_subarticular_stenosis_processed, cond='ss')\n",
        "trainloader_t2stir, valloader_t2stir, len_train_t2stir, len_val_t2stir = create_datasets_and_loaders(df=df_spinal_canal_processed, cond='scs')\n",
        "\n",
        "dataloaders['Sagittal T1'] = (trainloader_t1, valloader_t1)\n",
        "dataloaders['Axial T2'] = (trainloader_t2, valloader_t2)\n",
        "dataloaders['Sagittal T2/STIR'] = (trainloader_t2stir, valloader_t2stir)\n",
        "\n",
        "lengths['Sagittal T1'] = (len_train_t1, len_val_t1)\n",
        "lengths['Axial T2'] = (len_train_t2, len_val_t2)\n",
        "lengths['Sagittal T2/STIR'] = (len_train_t2stir, len_val_t2stir)"
      ]
    },
    {
      "cell_type": "code",
      "execution_count": null,
      "metadata": {},
      "outputs": [],
      "source": [
        "import os\n",
        "import torch\n",
        "import torch.nn as nn\n",
        "from model import generate_model\n",
        "\n",
        "\n",
        "# Define the config-style class used by MedicalNet's generate_model()\n",
        "class MedicalNetOptions:\n",
        "    def __init__(self, model_depth=18, input_D=16, input_H=112, input_W=122):\n",
        "        self.model = 'resnet'\n",
        "        self.model_depth = model_depth\n",
        "        self.input_D = input_D\n",
        "        self.input_H = input_H\n",
        "        self.input_W = input_W\n",
        "        self.resnet_shortcut = 'A'\n",
        "        self.no_cuda = False\n",
        "        self.n_seg_classes = 1\n",
        "        self.gpu_id = [0]\n",
        "        self.phase = 'train'\n",
        "        self.pretrain_path = ''\n",
        "        self.new_layer_names = []\n",
        "\n",
        "# Main wrapper class to use MedicalNet's ResNet18\n",
        "class MedicalNet3DResNet18(nn.Module):\n",
        "    def __init__(self, output_dim=10, pretrained_path=None, freeze_until=2):\n",
        "        \"\"\"\n",
        "        :param output_dim: Number of regression outputs (5 or 10)\n",
        "        :param pretrained_path: Path to downloaded MedicalNet .pth weights\n",
        "        :param freeze_until: Freeze N blocks (0 = none, 4 = all)\n",
        "        \"\"\"\n",
        "        super(MedicalNet3DResNet18, self).__init__()\n",
        "\n",
        "        # Create MedicalNet-style options object\n",
        "        opt = MedicalNetOptions()\n",
        "\n",
        "        # Generate base model\n",
        "        self.backbone, *_ = generate_model(opt)\n",
        "        def forward_patch(self_inner, x):\n",
        "            x = self_inner.conv1(x)\n",
        "            x = self_inner.bn1(x)\n",
        "            x = self_inner.relu(x)\n",
        "            x = self_inner.maxpool(x)\n",
        "            x = self_inner.layer1(x)\n",
        "            x = self_inner.layer2(x)\n",
        "            x = self_inner.layer3(x)\n",
        "            x = self_inner.layer4(x)\n",
        "            return x\n",
        "\n",
        "        self.backbone.module.forward = forward_patch.__get__(self.backbone.module, type(self.backbone.module))\n",
        "\n",
        "\n",
        "\n",
        "        # Load pretrained weights if path is given\n",
        "        if pretrained_path and os.path.exists(pretrained_path):\n",
        "            checkpoint = torch.load(pretrained_path, map_location='cpu')\n",
        "            state_dict = checkpoint['state_dict'] if 'state_dict' in checkpoint else checkpoint\n",
        "            new_state_dict = {k.replace('module.', ''): v for k, v in state_dict.items()}\n",
        "            self.backbone.load_state_dict(new_state_dict, strict=False)\n",
        "        else:\n",
        "            print(\"⚠️ No pretrained weights loaded. Using random initialization.\")\n",
        "\n",
        "        # Freeze early blocks\n",
        "        self._freeze_layers(freeze_until)\n",
        "\n",
        "        self.output_head = nn.Sequential(\n",
        "             nn.AdaptiveAvgPool3d(1),  # Global average pooling\n",
        "             nn.Flatten(),\n",
        "             nn.Linear(512, output_dim),  # 512 is final channel count in ResNet18\n",
        "             nn.Sigmoid()\n",
        "         )\n",
        "\n",
        "    def forward(self, x):\n",
        "        x = self.backbone(x)  # Output: (B, 512, 1, 1, 1) or similar\n",
        "        x = self.output_head(x)\n",
        "        return x\n",
        "\n",
        "    def _freeze_layers(self, freeze_until):\n",
        "        \"\"\"\n",
        "        Freeze early blocks of ResNet18. freeze_until=2 freezes conv1 + layer1\n",
        "        \"\"\"\n",
        "        freeze_blocks = ['conv1', 'layer1', 'layer2', 'layer3']\n",
        "        for i, name in enumerate(freeze_blocks):\n",
        "            if i < freeze_until:\n",
        "                layer = getattr(self.backbone.module, name)\n",
        "                for param in layer.parameters():\n",
        "                    param.requires_grad = False\n",
        "\n",
        "\n",
        "\n",
        "# Device setup\n",
        "device = torch.device('cuda' if torch.cuda.is_available() else 'cpu')\n",
        "print(device)\n",
        "\n",
        "# Path to pretrained weights\n",
        "pretrained_path = '/content/medicalnet_resnet18.pth'  # already downloaded\n",
        "\n",
        "# ====== Create model instances ======\n",
        "\n",
        "# Neural Foraminal Narrowing (Sagittal T1): 10 labels\n",
        "model_sagittal_t1 = MedicalNet3DResNet18(\n",
        "    output_dim=10,\n",
        "    pretrained_path=pretrained_path,\n",
        "    freeze_until=2\n",
        ").to(device)\n",
        "\n",
        "# Subarticular Stenosis (Axial T2): 10 labels\n",
        "model_axial_t2 = MedicalNet3DResNet18(\n",
        "    output_dim=10,\n",
        "    pretrained_path=pretrained_path,\n",
        "    freeze_until=2\n",
        ").to(device)\n",
        "\n",
        "# Spinal Canal Stenosis (Sagittal T2/STIR): 5 labels\n",
        "model_sagittal_t2stir = MedicalNet3DResNet18(\n",
        "    output_dim=5,\n",
        "    pretrained_path=pretrained_path,\n",
        "    freeze_until=2\n",
        ").to(device)\n",
        "\n",
        "# ====== Optimizers (only trainable params) ======\n",
        "optimizer_sagittal_t1 = torch.optim.AdamW(\n",
        "    filter(lambda p: p.requires_grad, model_sagittal_t1.parameters()),\n",
        "    lr=1e-4,\n",
        "    weight_decay=1e-2\n",
        ")\n",
        "\n",
        "optimizer_axial_t2 = torch.optim.AdamW(\n",
        "    filter(lambda p: p.requires_grad, model_axial_t2.parameters()),\n",
        "    lr=1e-4,\n",
        "    weight_decay=1e-2\n",
        ")\n",
        "\n",
        "optimizer_sagittal_t2stir = torch.optim.AdamW(\n",
        "    filter(lambda p: p.requires_grad, model_sagittal_t2stir.parameters()),\n",
        "    lr=1e-4,\n",
        "    weight_decay=1e-2\n",
        ")\n",
        "\n",
        "# ====== Loss Function (Regression) ======\n",
        "criterion = nn.SmoothL1Loss(beta=1.0)\n",
        "\n",
        "# ====== Store in dictionaries ======\n",
        "models = {\n",
        "    'Sagittal T1': model_sagittal_t1,\n",
        "    'Axial T2': model_axial_t2,\n",
        "    'Sagittal T2/STIR': model_sagittal_t2stir,\n",
        "}\n",
        "\n",
        "optimizers = {\n",
        "    'Sagittal T1': optimizer_sagittal_t1,\n",
        "    'Axial T2': optimizer_axial_t2,\n",
        "    'Sagittal T2/STIR': optimizer_sagittal_t2stir,\n",
        "}\n"
      ]
    },
    {
      "cell_type": "code",
      "execution_count": null,
      "metadata": {
        "id": "ciiRY1F_57i-"
      },
      "outputs": [],
      "source": [
        "import warnings\n",
        "warnings.filterwarnings(\"ignore\")\n"
      ]
    },
    {
      "cell_type": "code",
      "execution_count": null,
      "metadata": {
        "id": "LmM4hQKN9iE8"
      },
      "outputs": [],
      "source": [
        "import torch\n",
        "import torch.optim.lr_scheduler as lr_scheduler\n",
        "from copy import deepcopy\n",
        "from tqdm import tqdm\n",
        "from sklearn.metrics import mean_absolute_error, mean_squared_error\n",
        "\n",
        "def train_model(model, trainloader, valloader, len_train, len_val, optimizer, num_epochs=20, patience=5):\n",
        "    scheduler = lr_scheduler.OneCycleLR(\n",
        "        optimizer,\n",
        "        max_lr=5e-5,\n",
        "        steps_per_epoch=len(trainloader),\n",
        "        epochs=num_epochs,\n",
        "        pct_start=0.1,\n",
        "        div_factor=10\n",
        "    )\n",
        "\n",
        "    best_val_mae = float('inf')\n",
        "    best_model_wts = deepcopy(model.state_dict())\n",
        "    counter = 0\n",
        "\n",
        "    for epoch in range(num_epochs):\n",
        "        model.train()\n",
        "        train_loss = 0\n",
        "        all_train_preds, all_train_labels = [], []\n",
        "\n",
        "        with tqdm(trainloader, unit=\"batch\") as tepoch:\n",
        "            for volumes, labels in tepoch:\n",
        "                volumes = volumes.to(device)\n",
        "                labels = labels.to(device).float()  # Ensure float for regression\n",
        "\n",
        "                optimizer.zero_grad()\n",
        "                outputs = model(volumes)\n",
        "                loss = criterion(outputs, labels)\n",
        "                loss.backward()\n",
        "                optimizer.step()\n",
        "                scheduler.step()\n",
        "\n",
        "                train_loss += loss.item()\n",
        "                all_train_preds.extend(outputs.detach().cpu().numpy())\n",
        "                all_train_labels.extend(labels.cpu().numpy())\n",
        "\n",
        "                tepoch.set_postfix(epoch=epoch+1)\n",
        "\n",
        "        train_loss /= len(trainloader)\n",
        "        train_mae = mean_absolute_error(all_train_labels, all_train_preds)\n",
        "        train_mse = mean_squared_error(all_train_labels, all_train_preds)\n",
        "\n",
        "        model.eval()\n",
        "        val_loss = 0\n",
        "        all_val_preds, all_val_labels = [], []\n",
        "\n",
        "        with torch.no_grad():\n",
        "            with tqdm(valloader, unit=\"batch\") as vepoch:\n",
        "                for volumes, labels in vepoch:\n",
        "                    volumes = volumes.to(device)\n",
        "                    labels = labels.to(device).float()\n",
        "\n",
        "                    outputs = model(volumes)\n",
        "                    loss = criterion(outputs, labels)\n",
        "                    val_loss += loss.item()\n",
        "\n",
        "                    all_val_preds.extend(outputs.cpu().numpy())\n",
        "                    all_val_labels.extend(labels.cpu().numpy())\n",
        "\n",
        "\n",
        "                    vepoch.set_postfix(epoch=epoch+1)\n",
        "\n",
        "        val_loss /= len(valloader)\n",
        "        val_mae = mean_absolute_error(all_val_labels, all_val_preds)\n",
        "        val_mse = mean_squared_error(all_val_labels, all_val_preds)\n",
        "\n",
        "        print(f\"\\nEpoch {epoch+1}:\")\n",
        "        print(f\"Train Loss: {train_loss:.4f}, MAE: {train_mae:.4f}, MSE: {train_mse:.4f}\")\n",
        "        print(f\"Val   Loss: {val_loss:.4f}, MAE: {val_mae:.4f}, MSE: {val_mse:.4f}\\n\")\n",
        "\n",
        "        # Save best model\n",
        "        if val_mae < best_val_mae:\n",
        "            best_val_mae = val_mae\n",
        "            best_model_wts = deepcopy(model.state_dict())\n",
        "            counter = 0\n",
        "            torch.save(best_model_wts, f'best_model_epoch{epoch+1}.pth')\n",
        "        else:\n",
        "            counter += 1\n",
        "\n",
        "        # Early stopping\n",
        "        if counter >= patience:\n",
        "            print(f\"Early stopping after {epoch+1} epochs\\n\")\n",
        "            break\n",
        "\n",
        "    model.load_state_dict(best_model_wts)\n",
        "    return model, best_val_mae\n"
      ]
    },
    {
      "cell_type": "code",
      "execution_count": null,
      "metadata": {
        "colab": {
          "base_uri": "https://localhost:8080/"
        },
        "id": "E1tcNw7-_KGe",
        "outputId": "9d7ce15b-e367-4af7-9f20-de6cef5980df"
      },
      "outputs": [
        {
          "name": "stdout",
          "output_type": "stream",
          "text": [
            "\n",
            " Training model for Sagittal T1\n"
          ]
        },
        {
          "name": "stderr",
          "output_type": "stream",
          "text": [
            "100%|███████████████████████████████| 74/74 [01:26<00:00,  1.17s/batch, epoch=1]\n",
            "100%|███████████████████████████████| 19/19 [00:18<00:00,  1.04batch/s, epoch=1]\n"
          ]
        },
        {
          "name": "stdout",
          "output_type": "stream",
          "text": [
            "\n",
            "Epoch 1:\n",
            "Train Loss: 0.0250, MAE: 0.1849, MSE: 0.0502\n",
            "Val   Loss: 0.0302, MAE: 0.2201, MSE: 0.0603\n",
            "\n"
          ]
        },
        {
          "name": "stderr",
          "output_type": "stream",
          "text": [
            "100%|███████████████████████████████| 74/74 [01:27<00:00,  1.19s/batch, epoch=2]\n",
            "100%|███████████████████████████████| 19/19 [00:18<00:00,  1.05batch/s, epoch=2]\n"
          ]
        },
        {
          "name": "stdout",
          "output_type": "stream",
          "text": [
            "\n",
            "Epoch 2:\n",
            "Train Loss: 0.0179, MAE: 0.1497, MSE: 0.0358\n",
            "Val   Loss: 0.0214, MAE: 0.1743, MSE: 0.0433\n",
            "\n"
          ]
        },
        {
          "name": "stderr",
          "output_type": "stream",
          "text": [
            "100%|███████████████████████████████| 74/74 [01:25<00:00,  1.15s/batch, epoch=3]\n",
            "100%|███████████████████████████████| 19/19 [00:17<00:00,  1.08batch/s, epoch=3]\n"
          ]
        },
        {
          "name": "stdout",
          "output_type": "stream",
          "text": [
            "\n",
            "Epoch 3:\n",
            "Train Loss: 0.0166, MAE: 0.1460, MSE: 0.0335\n",
            "Val   Loss: 0.0206, MAE: 0.1609, MSE: 0.0421\n",
            "\n"
          ]
        },
        {
          "name": "stderr",
          "output_type": "stream",
          "text": [
            "100%|███████████████████████████████| 74/74 [01:25<00:00,  1.15s/batch, epoch=4]\n",
            "100%|███████████████████████████████| 19/19 [00:17<00:00,  1.09batch/s, epoch=4]\n"
          ]
        },
        {
          "name": "stdout",
          "output_type": "stream",
          "text": [
            "\n",
            "Epoch 4:\n",
            "Train Loss: 0.0163, MAE: 0.1412, MSE: 0.0324\n",
            "Val   Loss: 0.0206, MAE: 0.1602, MSE: 0.0422\n",
            "\n"
          ]
        },
        {
          "name": "stderr",
          "output_type": "stream",
          "text": [
            "100%|███████████████████████████████| 74/74 [01:23<00:00,  1.12s/batch, epoch=5]\n",
            "100%|███████████████████████████████| 19/19 [00:17<00:00,  1.09batch/s, epoch=5]\n"
          ]
        },
        {
          "name": "stdout",
          "output_type": "stream",
          "text": [
            "\n",
            "Epoch 5:\n",
            "Train Loss: 0.0168, MAE: 0.1458, MSE: 0.0334\n",
            "Val   Loss: 0.0193, MAE: 0.1688, MSE: 0.0392\n",
            "\n"
          ]
        },
        {
          "name": "stderr",
          "output_type": "stream",
          "text": [
            "100%|███████████████████████████████| 74/74 [01:23<00:00,  1.13s/batch, epoch=6]\n",
            "100%|███████████████████████████████| 19/19 [00:17<00:00,  1.09batch/s, epoch=6]\n"
          ]
        },
        {
          "name": "stdout",
          "output_type": "stream",
          "text": [
            "\n",
            "Epoch 6:\n",
            "Train Loss: 0.0154, MAE: 0.1358, MSE: 0.0308\n",
            "Val   Loss: 0.0211, MAE: 0.1549, MSE: 0.0435\n",
            "\n"
          ]
        },
        {
          "name": "stderr",
          "output_type": "stream",
          "text": [
            "100%|███████████████████████████████| 74/74 [01:23<00:00,  1.13s/batch, epoch=7]\n",
            "100%|███████████████████████████████| 19/19 [00:17<00:00,  1.08batch/s, epoch=7]\n"
          ]
        },
        {
          "name": "stdout",
          "output_type": "stream",
          "text": [
            "\n",
            "Epoch 7:\n",
            "Train Loss: 0.0156, MAE: 0.1360, MSE: 0.0312\n",
            "Val   Loss: 0.0187, MAE: 0.1534, MSE: 0.0383\n",
            "\n"
          ]
        },
        {
          "name": "stderr",
          "output_type": "stream",
          "text": [
            "100%|███████████████████████████████| 74/74 [01:23<00:00,  1.12s/batch, epoch=8]\n",
            "100%|███████████████████████████████| 19/19 [00:17<00:00,  1.09batch/s, epoch=8]\n"
          ]
        },
        {
          "name": "stdout",
          "output_type": "stream",
          "text": [
            "\n",
            "Epoch 8:\n",
            "Train Loss: 0.0155, MAE: 0.1360, MSE: 0.0309\n",
            "Val   Loss: 0.0176, MAE: 0.1475, MSE: 0.0362\n",
            "\n"
          ]
        },
        {
          "name": "stderr",
          "output_type": "stream",
          "text": [
            "100%|███████████████████████████████| 74/74 [01:23<00:00,  1.13s/batch, epoch=9]\n",
            "100%|███████████████████████████████| 19/19 [00:17<00:00,  1.06batch/s, epoch=9]\n"
          ]
        },
        {
          "name": "stdout",
          "output_type": "stream",
          "text": [
            "\n",
            "Epoch 9:\n",
            "Train Loss: 0.0145, MAE: 0.1306, MSE: 0.0290\n",
            "Val   Loss: 0.0244, MAE: 0.1634, MSE: 0.0497\n",
            "\n"
          ]
        },
        {
          "name": "stderr",
          "output_type": "stream",
          "text": [
            "100%|██████████████████████████████| 74/74 [01:23<00:00,  1.13s/batch, epoch=10]\n",
            "100%|██████████████████████████████| 19/19 [00:17<00:00,  1.09batch/s, epoch=10]\n"
          ]
        },
        {
          "name": "stdout",
          "output_type": "stream",
          "text": [
            "\n",
            "Epoch 10:\n",
            "Train Loss: 0.0138, MAE: 0.1255, MSE: 0.0276\n",
            "Val   Loss: 0.0219, MAE: 0.1667, MSE: 0.0451\n",
            "\n"
          ]
        },
        {
          "name": "stderr",
          "output_type": "stream",
          "text": [
            "100%|██████████████████████████████| 74/74 [01:23<00:00,  1.12s/batch, epoch=11]\n",
            "100%|██████████████████████████████| 19/19 [00:17<00:00,  1.09batch/s, epoch=11]\n"
          ]
        },
        {
          "name": "stdout",
          "output_type": "stream",
          "text": [
            "\n",
            "Epoch 11:\n",
            "Train Loss: 0.0135, MAE: 0.1218, MSE: 0.0265\n",
            "Val   Loss: 0.0167, MAE: 0.1473, MSE: 0.0340\n",
            "\n"
          ]
        },
        {
          "name": "stderr",
          "output_type": "stream",
          "text": [
            "100%|██████████████████████████████| 74/74 [01:23<00:00,  1.12s/batch, epoch=12]\n",
            "100%|██████████████████████████████| 19/19 [00:17<00:00,  1.09batch/s, epoch=12]\n"
          ]
        },
        {
          "name": "stdout",
          "output_type": "stream",
          "text": [
            "\n",
            "Epoch 12:\n",
            "Train Loss: 0.0124, MAE: 0.1173, MSE: 0.0247\n",
            "Val   Loss: 0.0172, MAE: 0.1369, MSE: 0.0354\n",
            "\n"
          ]
        },
        {
          "name": "stderr",
          "output_type": "stream",
          "text": [
            "100%|██████████████████████████████| 74/74 [01:23<00:00,  1.13s/batch, epoch=13]\n",
            "100%|██████████████████████████████| 19/19 [00:17<00:00,  1.09batch/s, epoch=13]\n"
          ]
        },
        {
          "name": "stdout",
          "output_type": "stream",
          "text": [
            "\n",
            "Epoch 13:\n",
            "Train Loss: 0.0122, MAE: 0.1128, MSE: 0.0242\n",
            "Val   Loss: 0.0153, MAE: 0.1272, MSE: 0.0315\n",
            "\n"
          ]
        },
        {
          "name": "stderr",
          "output_type": "stream",
          "text": [
            "100%|██████████████████████████████| 74/74 [01:23<00:00,  1.12s/batch, epoch=14]\n",
            "100%|██████████████████████████████| 19/19 [00:17<00:00,  1.09batch/s, epoch=14]\n"
          ]
        },
        {
          "name": "stdout",
          "output_type": "stream",
          "text": [
            "\n",
            "Epoch 14:\n",
            "Train Loss: 0.0115, MAE: 0.1108, MSE: 0.0231\n",
            "Val   Loss: 0.0142, MAE: 0.1231, MSE: 0.0294\n",
            "\n"
          ]
        },
        {
          "name": "stderr",
          "output_type": "stream",
          "text": [
            "100%|██████████████████████████████| 74/74 [01:23<00:00,  1.12s/batch, epoch=15]\n",
            "100%|██████████████████████████████| 19/19 [00:17<00:00,  1.09batch/s, epoch=15]\n"
          ]
        },
        {
          "name": "stdout",
          "output_type": "stream",
          "text": [
            "\n",
            "Epoch 15:\n",
            "Train Loss: 0.0106, MAE: 0.1050, MSE: 0.0212\n",
            "Val   Loss: 0.0146, MAE: 0.1209, MSE: 0.0299\n",
            "\n"
          ]
        },
        {
          "name": "stderr",
          "output_type": "stream",
          "text": [
            "100%|██████████████████████████████| 74/74 [01:23<00:00,  1.13s/batch, epoch=16]\n",
            "100%|██████████████████████████████| 19/19 [00:17<00:00,  1.09batch/s, epoch=16]\n"
          ]
        },
        {
          "name": "stdout",
          "output_type": "stream",
          "text": [
            "\n",
            "Epoch 16:\n",
            "Train Loss: 0.0100, MAE: 0.1009, MSE: 0.0201\n",
            "Val   Loss: 0.0138, MAE: 0.1147, MSE: 0.0284\n",
            "\n"
          ]
        },
        {
          "name": "stderr",
          "output_type": "stream",
          "text": [
            "100%|██████████████████████████████| 74/74 [01:23<00:00,  1.13s/batch, epoch=17]\n",
            "100%|██████████████████████████████| 19/19 [00:17<00:00,  1.09batch/s, epoch=17]\n"
          ]
        },
        {
          "name": "stdout",
          "output_type": "stream",
          "text": [
            "\n",
            "Epoch 17:\n",
            "Train Loss: 0.0098, MAE: 0.1004, MSE: 0.0195\n",
            "Val   Loss: 0.0133, MAE: 0.1109, MSE: 0.0275\n",
            "\n"
          ]
        },
        {
          "name": "stderr",
          "output_type": "stream",
          "text": [
            "100%|██████████████████████████████| 74/74 [01:22<00:00,  1.12s/batch, epoch=18]\n",
            "100%|██████████████████████████████| 19/19 [00:17<00:00,  1.09batch/s, epoch=18]\n"
          ]
        },
        {
          "name": "stdout",
          "output_type": "stream",
          "text": [
            "\n",
            "Epoch 18:\n",
            "Train Loss: 0.0090, MAE: 0.0950, MSE: 0.0178\n",
            "Val   Loss: 0.0132, MAE: 0.1105, MSE: 0.0273\n",
            "\n"
          ]
        },
        {
          "name": "stderr",
          "output_type": "stream",
          "text": [
            "100%|██████████████████████████████| 74/74 [01:22<00:00,  1.12s/batch, epoch=19]\n",
            "100%|██████████████████████████████| 19/19 [00:17<00:00,  1.09batch/s, epoch=19]\n"
          ]
        },
        {
          "name": "stdout",
          "output_type": "stream",
          "text": [
            "\n",
            "Epoch 19:\n",
            "Train Loss: 0.0090, MAE: 0.0948, MSE: 0.0181\n",
            "Val   Loss: 0.0131, MAE: 0.1099, MSE: 0.0271\n",
            "\n"
          ]
        },
        {
          "name": "stderr",
          "output_type": "stream",
          "text": [
            "100%|██████████████████████████████| 74/74 [01:23<00:00,  1.13s/batch, epoch=20]\n",
            "100%|██████████████████████████████| 19/19 [00:17<00:00,  1.09batch/s, epoch=20]\n"
          ]
        },
        {
          "name": "stdout",
          "output_type": "stream",
          "text": [
            "\n",
            "Epoch 20:\n",
            "Train Loss: 0.0087, MAE: 0.0950, MSE: 0.0175\n",
            "Val   Loss: 0.0135, MAE: 0.1126, MSE: 0.0279\n",
            "\n",
            "✅ Model Sagittal T1 saved to resnet_models/Sagittal_T1.pth\n",
            "\n",
            " Training model for Axial T2\n"
          ]
        },
        {
          "name": "stderr",
          "output_type": "stream",
          "text": [
            "100%|███████████████████████████████| 74/74 [02:18<00:00,  1.86s/batch, epoch=1]\n",
            "100%|███████████████████████████████| 19/19 [00:29<00:00,  1.57s/batch, epoch=1]\n"
          ]
        },
        {
          "name": "stdout",
          "output_type": "stream",
          "text": [
            "\n",
            "Epoch 1:\n",
            "Train Loss: 0.0710, MAE: 0.2008, MSE: 5.1716\n",
            "Val   Loss: 0.0148, MAE: 0.1002, MSE: 0.0287\n",
            "\n"
          ]
        },
        {
          "name": "stderr",
          "output_type": "stream",
          "text": [
            "100%|███████████████████████████████| 74/74 [02:17<00:00,  1.86s/batch, epoch=2]\n",
            "100%|███████████████████████████████| 19/19 [00:29<00:00,  1.57s/batch, epoch=2]\n"
          ]
        },
        {
          "name": "stdout",
          "output_type": "stream",
          "text": [
            "\n",
            "Epoch 2:\n",
            "Train Loss: 0.0603, MAE: 0.1441, MSE: 5.1518\n",
            "Val   Loss: 0.0098, MAE: 0.0986, MSE: 0.0196\n",
            "\n"
          ]
        },
        {
          "name": "stderr",
          "output_type": "stream",
          "text": [
            "100%|███████████████████████████████| 74/74 [02:16<00:00,  1.85s/batch, epoch=3]\n",
            "100%|███████████████████████████████| 19/19 [00:29<00:00,  1.57s/batch, epoch=3]\n"
          ]
        },
        {
          "name": "stdout",
          "output_type": "stream",
          "text": [
            "\n",
            "Epoch 3:\n",
            "Train Loss: 0.2089, MAE: 0.1312, MSE: 5.1387\n",
            "Val   Loss: 0.0073, MAE: 0.0874, MSE: 0.0148\n",
            "\n"
          ]
        },
        {
          "name": "stderr",
          "output_type": "stream",
          "text": [
            "100%|███████████████████████████████| 74/74 [02:16<00:00,  1.84s/batch, epoch=4]\n",
            "100%|███████████████████████████████| 19/19 [00:29<00:00,  1.57s/batch, epoch=4]\n"
          ]
        },
        {
          "name": "stdout",
          "output_type": "stream",
          "text": [
            "\n",
            "Epoch 4:\n",
            "Train Loss: 0.0565, MAE: 0.1264, MSE: 5.1460\n",
            "Val   Loss: 0.0061, MAE: 0.0695, MSE: 0.0125\n",
            "\n"
          ]
        },
        {
          "name": "stderr",
          "output_type": "stream",
          "text": [
            "100%|███████████████████████████████| 74/74 [02:16<00:00,  1.84s/batch, epoch=5]\n",
            "100%|███████████████████████████████| 19/19 [00:29<00:00,  1.58s/batch, epoch=5]\n"
          ]
        },
        {
          "name": "stdout",
          "output_type": "stream",
          "text": [
            "\n",
            "Epoch 5:\n",
            "Train Loss: 0.0556, MAE: 0.1203, MSE: 5.1356\n",
            "Val   Loss: 0.0056, MAE: 0.0717, MSE: 0.0111\n",
            "\n"
          ]
        },
        {
          "name": "stderr",
          "output_type": "stream",
          "text": [
            "100%|███████████████████████████████| 74/74 [02:15<00:00,  1.83s/batch, epoch=6]\n",
            "100%|███████████████████████████████| 19/19 [00:29<00:00,  1.55s/batch, epoch=6]\n"
          ]
        },
        {
          "name": "stdout",
          "output_type": "stream",
          "text": [
            "\n",
            "Epoch 6:\n",
            "Train Loss: 0.0550, MAE: 0.1174, MSE: 5.1312\n",
            "Val   Loss: 0.0041, MAE: 0.0634, MSE: 0.0081\n",
            "\n"
          ]
        },
        {
          "name": "stderr",
          "output_type": "stream",
          "text": [
            "100%|███████████████████████████████| 74/74 [02:15<00:00,  1.84s/batch, epoch=7]\n",
            "100%|███████████████████████████████| 19/19 [00:29<00:00,  1.55s/batch, epoch=7]\n"
          ]
        },
        {
          "name": "stdout",
          "output_type": "stream",
          "text": [
            "\n",
            "Epoch 7:\n",
            "Train Loss: 0.0546, MAE: 0.1132, MSE: 5.1341\n",
            "Val   Loss: 0.0063, MAE: 0.0774, MSE: 0.0127\n",
            "\n"
          ]
        },
        {
          "name": "stderr",
          "output_type": "stream",
          "text": [
            "100%|███████████████████████████████| 74/74 [02:08<00:00,  1.73s/batch, epoch=8]\n",
            "100%|███████████████████████████████| 19/19 [00:27<00:00,  1.46s/batch, epoch=8]\n"
          ]
        },
        {
          "name": "stdout",
          "output_type": "stream",
          "text": [
            "\n",
            "Epoch 8:\n",
            "Train Loss: 0.0550, MAE: 0.1162, MSE: 5.1331\n",
            "Val   Loss: 0.0064, MAE: 0.0851, MSE: 0.0129\n",
            "\n"
          ]
        },
        {
          "name": "stderr",
          "output_type": "stream",
          "text": [
            "100%|███████████████████████████████| 74/74 [02:13<00:00,  1.80s/batch, epoch=9]\n",
            "100%|███████████████████████████████| 19/19 [00:29<00:00,  1.54s/batch, epoch=9]\n"
          ]
        },
        {
          "name": "stdout",
          "output_type": "stream",
          "text": [
            "\n",
            "Epoch 9:\n",
            "Train Loss: 0.0540, MAE: 0.1102, MSE: 5.1268\n",
            "Val   Loss: 0.0030, MAE: 0.0528, MSE: 0.0059\n",
            "\n"
          ]
        },
        {
          "name": "stderr",
          "output_type": "stream",
          "text": [
            "100%|██████████████████████████████| 74/74 [02:15<00:00,  1.83s/batch, epoch=10]\n",
            "100%|██████████████████████████████| 19/19 [00:29<00:00,  1.54s/batch, epoch=10]\n"
          ]
        },
        {
          "name": "stdout",
          "output_type": "stream",
          "text": [
            "\n",
            "Epoch 10:\n",
            "Train Loss: 0.0537, MAE: 0.1083, MSE: 5.1244\n",
            "Val   Loss: 0.0022, MAE: 0.0491, MSE: 0.0044\n",
            "\n"
          ]
        },
        {
          "name": "stderr",
          "output_type": "stream",
          "text": [
            "100%|██████████████████████████████| 74/74 [02:15<00:00,  1.83s/batch, epoch=11]\n",
            "100%|██████████████████████████████| 19/19 [00:28<00:00,  1.52s/batch, epoch=11]\n"
          ]
        },
        {
          "name": "stdout",
          "output_type": "stream",
          "text": [
            "\n",
            "Epoch 11:\n",
            "Train Loss: 0.0541, MAE: 0.1100, MSE: 5.1272\n",
            "Val   Loss: 0.0024, MAE: 0.0525, MSE: 0.0046\n",
            "\n"
          ]
        },
        {
          "name": "stderr",
          "output_type": "stream",
          "text": [
            "100%|██████████████████████████████| 74/74 [02:08<00:00,  1.73s/batch, epoch=12]\n",
            "100%|██████████████████████████████| 19/19 [00:27<00:00,  1.46s/batch, epoch=12]\n"
          ]
        },
        {
          "name": "stdout",
          "output_type": "stream",
          "text": [
            "\n",
            "Epoch 12:\n",
            "Train Loss: 0.0541, MAE: 0.1087, MSE: 5.1284\n",
            "Val   Loss: 0.0022, MAE: 0.0494, MSE: 0.0043\n",
            "\n"
          ]
        },
        {
          "name": "stderr",
          "output_type": "stream",
          "text": [
            "100%|██████████████████████████████| 74/74 [02:08<00:00,  1.74s/batch, epoch=13]\n",
            "100%|██████████████████████████████| 19/19 [00:27<00:00,  1.46s/batch, epoch=13]\n"
          ]
        },
        {
          "name": "stdout",
          "output_type": "stream",
          "text": [
            "\n",
            "Epoch 13:\n",
            "Train Loss: 0.0537, MAE: 0.1078, MSE: 5.1238\n",
            "Val   Loss: 0.0030, MAE: 0.0602, MSE: 0.0059\n",
            "\n"
          ]
        },
        {
          "name": "stderr",
          "output_type": "stream",
          "text": [
            "100%|██████████████████████████████| 74/74 [02:07<00:00,  1.73s/batch, epoch=14]\n",
            "100%|██████████████████████████████| 19/19 [00:27<00:00,  1.46s/batch, epoch=14]\n"
          ]
        },
        {
          "name": "stdout",
          "output_type": "stream",
          "text": [
            "\n",
            "Epoch 14:\n",
            "Train Loss: 0.0537, MAE: 0.1059, MSE: 5.1323\n",
            "Val   Loss: 0.0018, MAE: 0.0456, MSE: 0.0035\n",
            "\n"
          ]
        },
        {
          "name": "stderr",
          "output_type": "stream",
          "text": [
            "100%|██████████████████████████████| 74/74 [02:07<00:00,  1.73s/batch, epoch=15]\n",
            "100%|██████████████████████████████| 19/19 [00:27<00:00,  1.46s/batch, epoch=15]\n"
          ]
        },
        {
          "name": "stdout",
          "output_type": "stream",
          "text": [
            "\n",
            "Epoch 15:\n",
            "Train Loss: 0.0537, MAE: 0.1067, MSE: 5.1217\n",
            "Val   Loss: 0.0016, MAE: 0.0429, MSE: 0.0032\n",
            "\n"
          ]
        },
        {
          "name": "stderr",
          "output_type": "stream",
          "text": [
            "100%|██████████████████████████████| 74/74 [02:08<00:00,  1.73s/batch, epoch=16]\n",
            "100%|██████████████████████████████| 19/19 [00:27<00:00,  1.45s/batch, epoch=16]\n"
          ]
        },
        {
          "name": "stdout",
          "output_type": "stream",
          "text": [
            "\n",
            "Epoch 16:\n",
            "Train Loss: 0.0532, MAE: 0.1036, MSE: 5.1235\n",
            "Val   Loss: 0.0018, MAE: 0.0454, MSE: 0.0036\n",
            "\n"
          ]
        },
        {
          "name": "stderr",
          "output_type": "stream",
          "text": [
            "100%|██████████████████████████████| 74/74 [02:08<00:00,  1.73s/batch, epoch=17]\n",
            "100%|██████████████████████████████| 19/19 [00:27<00:00,  1.46s/batch, epoch=17]\n"
          ]
        },
        {
          "name": "stdout",
          "output_type": "stream",
          "text": [
            "\n",
            "Epoch 17:\n",
            "Train Loss: 0.0531, MAE: 0.1028, MSE: 5.1222\n",
            "Val   Loss: 0.0016, MAE: 0.0427, MSE: 0.0031\n",
            "\n"
          ]
        },
        {
          "name": "stderr",
          "output_type": "stream",
          "text": [
            "100%|██████████████████████████████| 74/74 [02:08<00:00,  1.74s/batch, epoch=18]\n",
            "100%|██████████████████████████████| 19/19 [00:27<00:00,  1.45s/batch, epoch=18]\n"
          ]
        },
        {
          "name": "stdout",
          "output_type": "stream",
          "text": [
            "\n",
            "Epoch 18:\n",
            "Train Loss: 0.0531, MAE: 0.1022, MSE: 5.1229\n",
            "Val   Loss: 0.0015, MAE: 0.0421, MSE: 0.0030\n",
            "\n"
          ]
        },
        {
          "name": "stderr",
          "output_type": "stream",
          "text": [
            "100%|██████████████████████████████| 74/74 [02:08<00:00,  1.74s/batch, epoch=19]\n",
            "100%|██████████████████████████████| 19/19 [00:27<00:00,  1.46s/batch, epoch=19]\n"
          ]
        },
        {
          "name": "stdout",
          "output_type": "stream",
          "text": [
            "\n",
            "Epoch 19:\n",
            "Train Loss: 0.0530, MAE: 0.1013, MSE: 5.1278\n",
            "Val   Loss: 0.0015, MAE: 0.0421, MSE: 0.0030\n",
            "\n"
          ]
        },
        {
          "name": "stderr",
          "output_type": "stream",
          "text": [
            "100%|██████████████████████████████| 74/74 [02:08<00:00,  1.73s/batch, epoch=20]\n",
            "100%|██████████████████████████████| 19/19 [00:27<00:00,  1.45s/batch, epoch=20]\n"
          ]
        },
        {
          "name": "stdout",
          "output_type": "stream",
          "text": [
            "\n",
            "Epoch 20:\n",
            "Train Loss: 0.0527, MAE: 0.1000, MSE: 5.1238\n",
            "Val   Loss: 0.0015, MAE: 0.0421, MSE: 0.0030\n",
            "\n",
            "✅ Model Axial T2 saved to resnet_models/Axial_T2.pth\n",
            "\n",
            " Training model for Sagittal T2/STIR\n"
          ]
        },
        {
          "name": "stderr",
          "output_type": "stream",
          "text": [
            "100%|███████████████████████████████| 74/74 [01:17<00:00,  1.05s/batch, epoch=1]\n",
            "100%|███████████████████████████████| 19/19 [00:17<00:00,  1.10batch/s, epoch=1]\n"
          ]
        },
        {
          "name": "stdout",
          "output_type": "stream",
          "text": [
            "\n",
            "Epoch 1:\n",
            "Train Loss: 0.0014, MAE: 0.0413, MSE: 0.0029\n",
            "Val   Loss: 0.0014, MAE: 0.0410, MSE: 0.0028\n",
            "\n"
          ]
        },
        {
          "name": "stderr",
          "output_type": "stream",
          "text": [
            "100%|███████████████████████████████| 74/74 [01:16<00:00,  1.04s/batch, epoch=2]\n",
            "100%|███████████████████████████████| 19/19 [00:17<00:00,  1.11batch/s, epoch=2]\n"
          ]
        },
        {
          "name": "stdout",
          "output_type": "stream",
          "text": [
            "\n",
            "Epoch 2:\n",
            "Train Loss: 0.0009, MAE: 0.0317, MSE: 0.0017\n",
            "Val   Loss: 0.0019, MAE: 0.0492, MSE: 0.0037\n",
            "\n"
          ]
        },
        {
          "name": "stderr",
          "output_type": "stream",
          "text": [
            "100%|███████████████████████████████| 74/74 [01:15<00:00,  1.02s/batch, epoch=3]\n",
            "100%|███████████████████████████████| 19/19 [00:16<00:00,  1.15batch/s, epoch=3]\n"
          ]
        },
        {
          "name": "stdout",
          "output_type": "stream",
          "text": [
            "\n",
            "Epoch 3:\n",
            "Train Loss: 0.0009, MAE: 0.0321, MSE: 0.0018\n",
            "Val   Loss: 0.0033, MAE: 0.0704, MSE: 0.0066\n",
            "\n"
          ]
        },
        {
          "name": "stderr",
          "output_type": "stream",
          "text": [
            "100%|███████████████████████████████| 74/74 [01:13<00:00,  1.01batch/s, epoch=4]\n",
            "100%|███████████████████████████████| 19/19 [00:16<00:00,  1.15batch/s, epoch=4]\n"
          ]
        },
        {
          "name": "stdout",
          "output_type": "stream",
          "text": [
            "\n",
            "Epoch 4:\n",
            "Train Loss: 0.0008, MAE: 0.0302, MSE: 0.0016\n",
            "Val   Loss: 0.0012, MAE: 0.0390, MSE: 0.0024\n",
            "\n"
          ]
        },
        {
          "name": "stderr",
          "output_type": "stream",
          "text": [
            "100%|███████████████████████████████| 74/74 [01:14<00:00,  1.00s/batch, epoch=5]\n",
            "100%|███████████████████████████████| 19/19 [00:16<00:00,  1.16batch/s, epoch=5]\n"
          ]
        },
        {
          "name": "stdout",
          "output_type": "stream",
          "text": [
            "\n",
            "Epoch 5:\n",
            "Train Loss: 0.0008, MAE: 0.0311, MSE: 0.0016\n",
            "Val   Loss: 0.0009, MAE: 0.0336, MSE: 0.0018\n",
            "\n"
          ]
        },
        {
          "name": "stderr",
          "output_type": "stream",
          "text": [
            "100%|███████████████████████████████| 74/74 [01:13<00:00,  1.01batch/s, epoch=6]\n",
            "100%|███████████████████████████████| 19/19 [00:16<00:00,  1.16batch/s, epoch=6]\n"
          ]
        },
        {
          "name": "stdout",
          "output_type": "stream",
          "text": [
            "\n",
            "Epoch 6:\n",
            "Train Loss: 0.0008, MAE: 0.0309, MSE: 0.0016\n",
            "Val   Loss: 0.0010, MAE: 0.0333, MSE: 0.0019\n",
            "\n"
          ]
        },
        {
          "name": "stderr",
          "output_type": "stream",
          "text": [
            "100%|███████████████████████████████| 74/74 [01:12<00:00,  1.01batch/s, epoch=7]\n",
            "100%|███████████████████████████████| 19/19 [00:16<00:00,  1.15batch/s, epoch=7]\n"
          ]
        },
        {
          "name": "stdout",
          "output_type": "stream",
          "text": [
            "\n",
            "Epoch 7:\n",
            "Train Loss: 0.0008, MAE: 0.0295, MSE: 0.0015\n",
            "Val   Loss: 0.0009, MAE: 0.0327, MSE: 0.0017\n",
            "\n"
          ]
        },
        {
          "name": "stderr",
          "output_type": "stream",
          "text": [
            "100%|███████████████████████████████| 74/74 [01:13<00:00,  1.00batch/s, epoch=8]\n",
            "100%|███████████████████████████████| 19/19 [00:16<00:00,  1.16batch/s, epoch=8]\n"
          ]
        },
        {
          "name": "stdout",
          "output_type": "stream",
          "text": [
            "\n",
            "Epoch 8:\n",
            "Train Loss: 0.0008, MAE: 0.0299, MSE: 0.0015\n",
            "Val   Loss: 0.0008, MAE: 0.0295, MSE: 0.0015\n",
            "\n"
          ]
        },
        {
          "name": "stderr",
          "output_type": "stream",
          "text": [
            "100%|███████████████████████████████| 74/74 [01:13<00:00,  1.01batch/s, epoch=9]\n",
            "100%|███████████████████████████████| 19/19 [00:16<00:00,  1.15batch/s, epoch=9]\n"
          ]
        },
        {
          "name": "stdout",
          "output_type": "stream",
          "text": [
            "\n",
            "Epoch 9:\n",
            "Train Loss: 0.0008, MAE: 0.0294, MSE: 0.0015\n",
            "Val   Loss: 0.0009, MAE: 0.0339, MSE: 0.0019\n",
            "\n"
          ]
        },
        {
          "name": "stderr",
          "output_type": "stream",
          "text": [
            "100%|██████████████████████████████| 74/74 [01:13<00:00,  1.01batch/s, epoch=10]\n",
            "100%|██████████████████████████████| 19/19 [00:16<00:00,  1.15batch/s, epoch=10]\n"
          ]
        },
        {
          "name": "stdout",
          "output_type": "stream",
          "text": [
            "\n",
            "Epoch 10:\n",
            "Train Loss: 0.0007, MAE: 0.0288, MSE: 0.0015\n",
            "Val   Loss: 0.0009, MAE: 0.0323, MSE: 0.0018\n",
            "\n"
          ]
        },
        {
          "name": "stderr",
          "output_type": "stream",
          "text": [
            "100%|██████████████████████████████| 74/74 [01:15<00:00,  1.02s/batch, epoch=11]\n",
            "100%|██████████████████████████████| 19/19 [00:16<00:00,  1.15batch/s, epoch=11]\n"
          ]
        },
        {
          "name": "stdout",
          "output_type": "stream",
          "text": [
            "\n",
            "Epoch 11:\n",
            "Train Loss: 0.0007, MAE: 0.0284, MSE: 0.0014\n",
            "Val   Loss: 0.0010, MAE: 0.0347, MSE: 0.0019\n",
            "\n"
          ]
        },
        {
          "name": "stderr",
          "output_type": "stream",
          "text": [
            "100%|██████████████████████████████| 74/74 [01:13<00:00,  1.01batch/s, epoch=12]\n",
            "100%|██████████████████████████████| 19/19 [00:16<00:00,  1.15batch/s, epoch=12]\n"
          ]
        },
        {
          "name": "stdout",
          "output_type": "stream",
          "text": [
            "\n",
            "Epoch 12:\n",
            "Train Loss: 0.0007, MAE: 0.0290, MSE: 0.0015\n",
            "Val   Loss: 0.0012, MAE: 0.0391, MSE: 0.0024\n",
            "\n"
          ]
        },
        {
          "name": "stderr",
          "output_type": "stream",
          "text": [
            "100%|██████████████████████████████| 74/74 [01:13<00:00,  1.01batch/s, epoch=13]\n",
            "100%|██████████████████████████████| 19/19 [00:16<00:00,  1.15batch/s, epoch=13]\n"
          ]
        },
        {
          "name": "stdout",
          "output_type": "stream",
          "text": [
            "\n",
            "Epoch 13:\n",
            "Train Loss: 0.0007, MAE: 0.0279, MSE: 0.0014\n",
            "Val   Loss: 0.0008, MAE: 0.0290, MSE: 0.0015\n",
            "\n"
          ]
        },
        {
          "name": "stderr",
          "output_type": "stream",
          "text": [
            "100%|██████████████████████████████| 74/74 [01:13<00:00,  1.01batch/s, epoch=14]\n",
            "100%|██████████████████████████████| 19/19 [00:16<00:00,  1.15batch/s, epoch=14]\n"
          ]
        },
        {
          "name": "stdout",
          "output_type": "stream",
          "text": [
            "\n",
            "Epoch 14:\n",
            "Train Loss: 0.0007, MAE: 0.0278, MSE: 0.0014\n",
            "Val   Loss: 0.0009, MAE: 0.0321, MSE: 0.0017\n",
            "\n"
          ]
        },
        {
          "name": "stderr",
          "output_type": "stream",
          "text": [
            "100%|██████████████████████████████| 74/74 [01:13<00:00,  1.01batch/s, epoch=15]\n",
            "100%|██████████████████████████████| 19/19 [00:16<00:00,  1.16batch/s, epoch=15]\n"
          ]
        },
        {
          "name": "stdout",
          "output_type": "stream",
          "text": [
            "\n",
            "Epoch 15:\n",
            "Train Loss: 0.0007, MAE: 0.0280, MSE: 0.0014\n",
            "Val   Loss: 0.0008, MAE: 0.0299, MSE: 0.0016\n",
            "\n"
          ]
        },
        {
          "name": "stderr",
          "output_type": "stream",
          "text": [
            "100%|██████████████████████████████| 74/74 [01:12<00:00,  1.02batch/s, epoch=16]\n",
            "100%|██████████████████████████████| 19/19 [00:16<00:00,  1.15batch/s, epoch=16]\n"
          ]
        },
        {
          "name": "stdout",
          "output_type": "stream",
          "text": [
            "\n",
            "Epoch 16:\n",
            "Train Loss: 0.0007, MAE: 0.0273, MSE: 0.0013\n",
            "Val   Loss: 0.0008, MAE: 0.0311, MSE: 0.0016\n",
            "\n"
          ]
        },
        {
          "name": "stderr",
          "output_type": "stream",
          "text": [
            "100%|██████████████████████████████| 74/74 [01:13<00:00,  1.01batch/s, epoch=17]\n",
            "100%|██████████████████████████████| 19/19 [00:16<00:00,  1.16batch/s, epoch=17]\n"
          ]
        },
        {
          "name": "stdout",
          "output_type": "stream",
          "text": [
            "\n",
            "Epoch 17:\n",
            "Train Loss: 0.0006, MAE: 0.0267, MSE: 0.0012\n",
            "Val   Loss: 0.0008, MAE: 0.0294, MSE: 0.0015\n",
            "\n"
          ]
        },
        {
          "name": "stderr",
          "output_type": "stream",
          "text": [
            "100%|██████████████████████████████| 74/74 [01:13<00:00,  1.01batch/s, epoch=18]\n",
            "100%|██████████████████████████████| 19/19 [00:16<00:00,  1.15batch/s, epoch=18]"
          ]
        },
        {
          "name": "stdout",
          "output_type": "stream",
          "text": [
            "\n",
            "Epoch 18:\n",
            "Train Loss: 0.0006, MAE: 0.0262, MSE: 0.0012\n",
            "Val   Loss: 0.0008, MAE: 0.0298, MSE: 0.0015\n",
            "\n",
            "Early stopping after 18 epochs\n",
            "\n",
            "✅ Model Sagittal T2/STIR saved to resnet_models/Sagittal_T2_STIR.pth\n"
          ]
        },
        {
          "name": "stderr",
          "output_type": "stream",
          "text": [
            "\n"
          ]
        }
      ],
      "source": [
        "import torch\n",
        "import os\n",
        "\n",
        "# Define the path where you want to save the models\n",
        "base_dir = \"/content/drive/MyDrive/FYPDataset/rsna-2024-lumbar-spine-degenerative-classification/resnet_models\"\n",
        "os.makedirs(base_dir, exist_ok=True)  # ✅ ensure directory exists\n",
        "\n",
        "# Training all models and saving them immediately after training\n",
        "for desc, model in models.items():\n",
        "    if desc == 'Sagittal T1':\n",
        "        trainloader, valloader, len_train, len_val = trainloader_t1, valloader_t1, len_train_t1, len_val_t1\n",
        "    elif desc == 'Axial T2':\n",
        "        trainloader, valloader, len_train, len_val = trainloader_t2, valloader_t2, len_train_t2, len_val_t2\n",
        "    elif desc == 'Sagittal T2/STIR':\n",
        "        trainloader, valloader, len_train, len_val = trainloader_t2stir, valloader_t2stir, len_train_t2stir, len_val_t2stir\n",
        "\n",
        "    print(f\"\\n Training model for {desc}\")\n",
        "\n",
        "    # Train model\n",
        "    trained_model, best_val_metric = train_model(model, trainloader, valloader, len_train, len_val, optimizers[desc])\n",
        "\n",
        "    # Save trained model\n",
        "    clean_model_name = desc.replace(\" \", \"_\").replace(\"/\", \"_\")\n",
        "    save_path = os.path.join(base_dir, f\"{clean_model_name}.pth\")\n",
        "    torch.save(trained_model.state_dict(), save_path)\n",
        "    print(f\"✅ Model {desc} saved to {save_path}\")\n"
      ]
    },
    {
      "cell_type": "code",
      "execution_count": 5,
      "metadata": {
        "colab": {
          "base_uri": "https://localhost:8080/",
          "height": 1000
        },
        "id": "Erq-UoH4fW8v",
        "outputId": "18e12aaf-1aef-49fb-c6b1-e17db6f0a923"
      },
      "outputs": [
        {
          "data": {
            "image/png": "[encoded data removed]",
            "text/plain": [
              "<Figure size 1200x2000 with 6 Axes>"
            ]
          },
          "metadata": {},
          "output_type": "display_data"
        }
      ],
      "source": [
        "import numpy as np\n",
        "import matplotlib.pyplot as plt\n",
        "\n",
        "import numpy as np\n",
        "import matplotlib.pyplot as plt\n",
        "\n",
        "# -----------------------------\n",
        "# SAGITTAL T1 - 40 epochs\n",
        "# -----------------------------\n",
        "sagittal_t1_train_mae = [0.1849, 0.1497, 0.1460, 0.1412, 0.1458, 0.1358, 0.1360, 0.1360, 0.1306, 0.1255,\n",
        "                         0.1218, 0.1173, 0.1128, 0.1108, 0.1050, 0.1009, 0.1004, 0.0950, 0.0948, 0.0950,\n",
        "                         0.0955, 0.0956, 0.0968, 0.0932, 0.0925, 0.0906, 0.0928, 0.0880, 0.0859, 0.0849,\n",
        "                         0.0867, 0.0858, 0.0811, 0.0778, 0.0800, 0.0771, 0.0769, 0.0788, 0.0782, 0.0741]\n",
        "\n",
        "sagittal_t1_val_mae = [0.2201, 0.1743, 0.1609, 0.1602, 0.1688, 0.1549, 0.1534, 0.1475, 0.1634, 0.1667,\n",
        "                       0.1473, 0.1369, 0.1272, 0.1231, 0.1209, 0.1147, 0.1109, 0.1105, 0.1099, 0.1126,\n",
        "                       0.1084, 0.1102, 0.1167, 0.1053, 0.1062, 0.1068, 0.1141, 0.1051, 0.1012, 0.1012,\n",
        "                       0.1095, 0.1022, 0.0979, 0.1004, 0.1008, 0.0982, 0.0973, 0.0989, 0.0970, 0.0974]\n",
        "\n",
        "sagittal_t1_train_mse = [0.0502, 0.0358, 0.0335, 0.0324, 0.0334, 0.0308, 0.0312, 0.0309, 0.0290, 0.0276,\n",
        "                         0.0265, 0.0247, 0.0242, 0.0231, 0.0212, 0.0201, 0.0195, 0.0178, 0.0181, 0.0175,\n",
        "                         0.0181, 0.0183, 0.0187, 0.0181, 0.0170, 0.0175, 0.0178, 0.0163, 0.0152, 0.0152,\n",
        "                         0.0156, 0.0154, 0.0143, 0.0130, 0.0139, 0.0132, 0.0129, 0.0137, 0.0137, 0.0122]\n",
        "\n",
        "sagittal_t1_val_mse = [0.0603, 0.0433, 0.0421, 0.0422, 0.0392, 0.0435, 0.0383, 0.0362, 0.0497, 0.0451,\n",
        "                       0.0340, 0.0354, 0.0315, 0.0294, 0.0299, 0.0284, 0.0275, 0.0273, 0.0271, 0.0279,\n",
        "                       0.0270, 0.0275, 0.0303, 0.0259, 0.0256, 0.0258, 0.0294, 0.0263, 0.0249, 0.0253,\n",
        "                       0.0284, 0.0257, 0.0235, 0.0250, 0.0253, 0.0247, 0.0241, 0.0246, 0.0239, 0.0241]\n",
        "\n",
        "# -----------------------------\n",
        "# AXIAL T2 - 33 epochs\n",
        "# -----------------------------\n",
        "axial_t2_train_mae = [0.2008, 0.1441, 0.1312, 0.1264, 0.1203, 0.1174, 0.1132, 0.1162, 0.1102, 0.1083,\n",
        "                      0.1100, 0.1087, 0.1078, 0.1059, 0.1067, 0.1036, 0.1028, 0.1022, 0.1013, 0.1000,\n",
        "                      0.1008, 0.1022, 0.1011, 0.1009, 0.1008, 0.1028, 0.1000, 0.1006, 0.0997, 0.0990,\n",
        "                      0.0991, 0.0982, 0.0988]\n",
        "\n",
        "axial_t2_val_mae = [0.1002, 0.0986, 0.0874, 0.0695, 0.0717, 0.0634, 0.0774, 0.0851, 0.0528, 0.0491,\n",
        "                    0.0525, 0.0494, 0.0602, 0.0456, 0.0429, 0.0454, 0.0427, 0.0421, 0.0421, 0.0421,\n",
        "                    0.0426, 0.0425, 0.0425, 0.0477, 0.0488, 0.0412, 0.0439, 0.0443, 0.0503, 0.0453,\n",
        "                    0.0408, 0.0410, 0.0416]\n",
        "\n",
        "axial_t2_train_mse = [0.0403, 0.0208, 0.0172, 0.0160, 0.0145, 0.0138, 0.0128, 0.0135, 0.0121, 0.0117,\n",
        "                      0.0121, 0.0118, 0.0116, 0.0112, 0.0113, 0.0107, 0.0105, 0.0104, 0.0103, 0.0101,\n",
        "                      0.0101, 0.0104, 0.0102, 0.0101, 0.0101, 0.0105, 0.0101, 0.0102, 0.0099, 0.0098,\n",
        "                      0.0098, 0.0096, 0.0097]\n",
        "\n",
        "axial_t2_val_mse = [0.0287, 0.0196, 0.0148, 0.0125, 0.0111, 0.0081, 0.0127, 0.0129, 0.0059, 0.0044,\n",
        "                    0.0046, 0.0043, 0.0059, 0.0035, 0.0032, 0.0036, 0.0031, 0.0030, 0.0030, 0.0030,\n",
        "                    0.0031, 0.0030, 0.0030, 0.0042, 0.0039, 0.0028, 0.0034, 0.0032, 0.0042, 0.0034,\n",
        "                    0.0027, 0.0028, 0.0028]\n",
        "\n",
        "# -----------------------------\n",
        "# SAGITTAL T2/STIR - 18 epochs\n",
        "# -----------------------------\n",
        "t2stir_train_mae = [0.0413, 0.0317, 0.0321, 0.0302, 0.0311, 0.0309, 0.0295, 0.0299, 0.0294, 0.0288,\n",
        "                    0.0284, 0.0290, 0.0279, 0.0278, 0.0280, 0.0273, 0.0267, 0.0262]\n",
        "\n",
        "t2stir_val_mae = [0.0410, 0.0492, 0.0704, 0.0390, 0.0336, 0.0333, 0.0327, 0.0295, 0.0339, 0.0323,\n",
        "                  0.0347, 0.0391, 0.0290, 0.0321, 0.0299, 0.0311, 0.0294, 0.0298]\n",
        "\n",
        "t2stir_train_mse = [0.0029, 0.0017, 0.0018, 0.0016, 0.0016, 0.0016, 0.0015, 0.0015, 0.0015, 0.0015,\n",
        "                    0.0014, 0.0015, 0.0014, 0.0014, 0.0014, 0.0013, 0.0012, 0.0012]\n",
        "\n",
        "t2stir_val_mse = [0.0028, 0.0037, 0.0066, 0.0024, 0.0018, 0.0019, 0.0017, 0.0015, 0.0019, 0.0018,\n",
        "                  0.0019, 0.0024, 0.0015, 0.0017, 0.0016, 0.0016, 0.0015, 0.0015]\n",
        "\n",
        "# Let me know when you're ready for me to paste the full plotting code using these updated arrays.\n",
        "\n",
        "\n",
        "# ------------------------------------------------------------------------\n",
        "# 2) UTILITY: Function to plot a single condition's (MAE, MSE) subplots\n",
        "# ------------------------------------------------------------------------\n",
        "def plot_regression(ax_mae, ax_mse,\n",
        "                    train_mae, val_mae,\n",
        "                    train_mse, val_mse,\n",
        "                    title_str):\n",
        "    \"\"\"\n",
        "    ax_mae, ax_mse : matplotlib Axes objects for the MAE and MSE subplots\n",
        "    train_mae, val_mae, train_mse, val_mse : lists of metric values\n",
        "    title_str : label/title for this condition's row\n",
        "    \"\"\"\n",
        "\n",
        "    epochs = np.arange(1, len(train_mae) + 1)\n",
        "    offset_mae = (max(val_mae) - min(val_mae)) * 0.1\n",
        "    offset_mse = (max(val_mse) - min(val_mse)) * 0.1\n",
        "    # ---- MAE subplot ----\n",
        "    ax_mae.plot(epochs, train_mae, label='Train MAE')\n",
        "    ax_mae.plot(epochs, val_mae, label='Val MAE')\n",
        "    ax_mae.set_title(f'{title_str} - MAE')\n",
        "    ax_mae.set_xlabel('Epoch')\n",
        "    ax_mae.set_ylabel('MAE')\n",
        "    ax_mae.set_xticks(np.arange(1, len(train_mae) + 1, 5))\n",
        "    ax_mae.legend(loc='best')\n",
        "\n",
        "    # Find best epoch (lowest val_mae)\n",
        "    best_epoch_idx = np.argmin(val_mae)\n",
        "    best_epoch_num = best_epoch_idx + 1\n",
        "    best_val_mae = val_mae[best_epoch_idx]\n",
        "\n",
        "    # Annotate on MAE subplot\n",
        "    mae_text = f'Best epoch: {best_epoch_num}\\nVal MAE: {best_val_mae:.4f}'\n",
        "    ax_mae.annotate(\n",
        "        mae_text,\n",
        "        xy=(best_epoch_num, best_val_mae),\n",
        "        xytext=(best_epoch_num, best_val_mae + offset_mae),\n",
        "        arrowprops=dict(arrowstyle='->', color='black'),\n",
        "        ha='center'\n",
        "    )\n",
        "\n",
        "    # ---- MSE subplot ----\n",
        "    ax_mse.plot(epochs, train_mse, label='Train MSE')\n",
        "    ax_mse.plot(epochs, val_mse, label='Val MSE')\n",
        "    ax_mse.set_title(f'{title_str} - MSE')\n",
        "    ax_mse.set_xlabel('Epoch')\n",
        "    ax_mse.set_ylabel('MSE')\n",
        "    ax_mae.set_xticks(np.arange(1, len(train_mse) + 1, 5))\n",
        "    ax_mse.legend(loc='best')\n",
        "\n",
        "    # MSE at that same best epoch\n",
        "    best_val_mse = val_mse[best_epoch_idx]\n",
        "    mse_text = (f'Best epoch (MAE): {best_epoch_num}\\n'\n",
        "                f'Val MSE: {best_val_mse:.4f}')\n",
        "    ax_mse.annotate(\n",
        "        mse_text,\n",
        "        xy=(best_epoch_num, best_val_mse),\n",
        "        xytext=(best_epoch_num, best_val_mse + offset_mse),\n",
        "        arrowprops=dict(arrowstyle='->', color='black'),\n",
        "        ha='center'\n",
        "    )\n",
        "\n",
        "\n",
        "# ------------------------------------------------------------------------\n",
        "# 3) MAIN PLOTTING (5 rows × 2 columns)\n",
        "# ------------------------------------------------------------------------\n",
        "fig, axes = plt.subplots(nrows=3, ncols=2, figsize=(12, 20))\n",
        "\n",
        "# Row 1: Left Neural Foraminal Narrowing\n",
        "plot_regression(\n",
        "    axes[0, 0],\n",
        "    axes[0, 1],\n",
        "    sagittal_t1_train_mae ,\n",
        "    sagittal_t1_val_mae ,\n",
        "    sagittal_t1_train_mse ,\n",
        "    sagittal_t1_val_mse ,\n",
        "    \"Sagittal T1\"\n",
        ")\n",
        "\n",
        "# Row 2: Right Neural Foraminal Narrowing\n",
        "plot_regression(\n",
        "    axes[1, 0],\n",
        "    axes[1, 1],\n",
        "    axial_t2_train_mae ,\n",
        "    axial_t2_val_mae ,\n",
        "    axial_t2_train_mse ,\n",
        "    axial_t2_val_mse ,\n",
        "    \"Axial T2\"\n",
        ")\n",
        "\n",
        "# Row 3: Left Subarticular Stenosis\n",
        "plot_regression(\n",
        "    axes[2, 0],\n",
        "    axes[2, 1],\n",
        "    t2stir_train_mae ,\n",
        "    t2stir_val_mae ,\n",
        "    t2stir_train_mse ,\n",
        "    t2stir_val_mse ,\n",
        "    \"Sagittal T2/STIR\"\n",
        ")\n",
        "\n",
        "\n",
        "plt.tight_layout()\n",
        "plt.show()\n"
      ]
    }
  ],
  "metadata": {
    "colab": {
      "provenance": []
    },
    "kernelspec": {
      "display_name": "Python 3",
      "name": "python3"
    },
    "language_info": {
      "codemirror_mode": {
        "name": "ipython",
        "version": 3
      },
      "file_extension": ".py",
      "mimetype": "text/x-python",
      "name": "python",
      "nbconvert_exporter": "python",
      "pygments_lexer": "ipython3",
      "version": "3.13.2"
    }
  },
  "nbformat": 4,
  "nbformat_minor": 0
}
